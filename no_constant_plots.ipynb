{
 "cells": [
  {
   "cell_type": "code",
   "execution_count": 60,
   "metadata": {},
   "outputs": [
    {
     "data": {
      "text/html": [
       "\n",
       "    <div class=\"bk-root\">\n",
       "        <a href=\"https://bokeh.pydata.org\" target=\"_blank\" class=\"bk-logo bk-logo-small bk-logo-notebook\"></a>\n",
       "        <span id=\"9818\">Loading BokehJS ...</span>\n",
       "    </div>"
      ]
     },
     "metadata": {},
     "output_type": "display_data"
    },
    {
     "data": {
      "application/javascript": [
       "\n",
       "(function(root) {\n",
       "  function now() {\n",
       "    return new Date();\n",
       "  }\n",
       "\n",
       "  var force = true;\n",
       "\n",
       "  if (typeof (root._bokeh_onload_callbacks) === \"undefined\" || force === true) {\n",
       "    root._bokeh_onload_callbacks = [];\n",
       "    root._bokeh_is_loading = undefined;\n",
       "  }\n",
       "\n",
       "  var JS_MIME_TYPE = 'application/javascript';\n",
       "  var HTML_MIME_TYPE = 'text/html';\n",
       "  var EXEC_MIME_TYPE = 'application/vnd.bokehjs_exec.v0+json';\n",
       "  var CLASS_NAME = 'output_bokeh rendered_html';\n",
       "\n",
       "  /**\n",
       "   * Render data to the DOM node\n",
       "   */\n",
       "  function render(props, node) {\n",
       "    var script = document.createElement(\"script\");\n",
       "    node.appendChild(script);\n",
       "  }\n",
       "\n",
       "  /**\n",
       "   * Handle when an output is cleared or removed\n",
       "   */\n",
       "  function handleClearOutput(event, handle) {\n",
       "    var cell = handle.cell;\n",
       "\n",
       "    var id = cell.output_area._bokeh_element_id;\n",
       "    var server_id = cell.output_area._bokeh_server_id;\n",
       "    // Clean up Bokeh references\n",
       "    if (id != null && id in Bokeh.index) {\n",
       "      Bokeh.index[id].model.document.clear();\n",
       "      delete Bokeh.index[id];\n",
       "    }\n",
       "\n",
       "    if (server_id !== undefined) {\n",
       "      // Clean up Bokeh references\n",
       "      var cmd = \"from bokeh.io.state import curstate; print(curstate().uuid_to_server['\" + server_id + \"'].get_sessions()[0].document.roots[0]._id)\";\n",
       "      cell.notebook.kernel.execute(cmd, {\n",
       "        iopub: {\n",
       "          output: function(msg) {\n",
       "            var id = msg.content.text.trim();\n",
       "            if (id in Bokeh.index) {\n",
       "              Bokeh.index[id].model.document.clear();\n",
       "              delete Bokeh.index[id];\n",
       "            }\n",
       "          }\n",
       "        }\n",
       "      });\n",
       "      // Destroy server and session\n",
       "      var cmd = \"import bokeh.io.notebook as ion; ion.destroy_server('\" + server_id + \"')\";\n",
       "      cell.notebook.kernel.execute(cmd);\n",
       "    }\n",
       "  }\n",
       "\n",
       "  /**\n",
       "   * Handle when a new output is added\n",
       "   */\n",
       "  function handleAddOutput(event, handle) {\n",
       "    var output_area = handle.output_area;\n",
       "    var output = handle.output;\n",
       "\n",
       "    // limit handleAddOutput to display_data with EXEC_MIME_TYPE content only\n",
       "    if ((output.output_type != \"display_data\") || (!output.data.hasOwnProperty(EXEC_MIME_TYPE))) {\n",
       "      return\n",
       "    }\n",
       "\n",
       "    var toinsert = output_area.element.find(\".\" + CLASS_NAME.split(' ')[0]);\n",
       "\n",
       "    if (output.metadata[EXEC_MIME_TYPE][\"id\"] !== undefined) {\n",
       "      toinsert[toinsert.length - 1].firstChild.textContent = output.data[JS_MIME_TYPE];\n",
       "      // store reference to embed id on output_area\n",
       "      output_area._bokeh_element_id = output.metadata[EXEC_MIME_TYPE][\"id\"];\n",
       "    }\n",
       "    if (output.metadata[EXEC_MIME_TYPE][\"server_id\"] !== undefined) {\n",
       "      var bk_div = document.createElement(\"div\");\n",
       "      bk_div.innerHTML = output.data[HTML_MIME_TYPE];\n",
       "      var script_attrs = bk_div.children[0].attributes;\n",
       "      for (var i = 0; i < script_attrs.length; i++) {\n",
       "        toinsert[toinsert.length - 1].firstChild.setAttribute(script_attrs[i].name, script_attrs[i].value);\n",
       "      }\n",
       "      // store reference to server id on output_area\n",
       "      output_area._bokeh_server_id = output.metadata[EXEC_MIME_TYPE][\"server_id\"];\n",
       "    }\n",
       "  }\n",
       "\n",
       "  function register_renderer(events, OutputArea) {\n",
       "\n",
       "    function append_mime(data, metadata, element) {\n",
       "      // create a DOM node to render to\n",
       "      var toinsert = this.create_output_subarea(\n",
       "        metadata,\n",
       "        CLASS_NAME,\n",
       "        EXEC_MIME_TYPE\n",
       "      );\n",
       "      this.keyboard_manager.register_events(toinsert);\n",
       "      // Render to node\n",
       "      var props = {data: data, metadata: metadata[EXEC_MIME_TYPE]};\n",
       "      render(props, toinsert[toinsert.length - 1]);\n",
       "      element.append(toinsert);\n",
       "      return toinsert\n",
       "    }\n",
       "\n",
       "    /* Handle when an output is cleared or removed */\n",
       "    events.on('clear_output.CodeCell', handleClearOutput);\n",
       "    events.on('delete.Cell', handleClearOutput);\n",
       "\n",
       "    /* Handle when a new output is added */\n",
       "    events.on('output_added.OutputArea', handleAddOutput);\n",
       "\n",
       "    /**\n",
       "     * Register the mime type and append_mime function with output_area\n",
       "     */\n",
       "    OutputArea.prototype.register_mime_type(EXEC_MIME_TYPE, append_mime, {\n",
       "      /* Is output safe? */\n",
       "      safe: true,\n",
       "      /* Index of renderer in `output_area.display_order` */\n",
       "      index: 0\n",
       "    });\n",
       "  }\n",
       "\n",
       "  // register the mime type if in Jupyter Notebook environment and previously unregistered\n",
       "  if (root.Jupyter !== undefined) {\n",
       "    var events = require('base/js/events');\n",
       "    var OutputArea = require('notebook/js/outputarea').OutputArea;\n",
       "\n",
       "    if (OutputArea.prototype.mime_types().indexOf(EXEC_MIME_TYPE) == -1) {\n",
       "      register_renderer(events, OutputArea);\n",
       "    }\n",
       "  }\n",
       "\n",
       "  \n",
       "  if (typeof (root._bokeh_timeout) === \"undefined\" || force === true) {\n",
       "    root._bokeh_timeout = Date.now() + 5000;\n",
       "    root._bokeh_failed_load = false;\n",
       "  }\n",
       "\n",
       "  var NB_LOAD_WARNING = {'data': {'text/html':\n",
       "     \"<div style='background-color: #fdd'>\\n\"+\n",
       "     \"<p>\\n\"+\n",
       "     \"BokehJS does not appear to have successfully loaded. If loading BokehJS from CDN, this \\n\"+\n",
       "     \"may be due to a slow or bad network connection. Possible fixes:\\n\"+\n",
       "     \"</p>\\n\"+\n",
       "     \"<ul>\\n\"+\n",
       "     \"<li>re-rerun `output_notebook()` to attempt to load from CDN again, or</li>\\n\"+\n",
       "     \"<li>use INLINE resources instead, as so:</li>\\n\"+\n",
       "     \"</ul>\\n\"+\n",
       "     \"<code>\\n\"+\n",
       "     \"from bokeh.resources import INLINE\\n\"+\n",
       "     \"output_notebook(resources=INLINE)\\n\"+\n",
       "     \"</code>\\n\"+\n",
       "     \"</div>\"}};\n",
       "\n",
       "  function display_loaded() {\n",
       "    var el = document.getElementById(\"9818\");\n",
       "    if (el != null) {\n",
       "      el.textContent = \"BokehJS is loading...\";\n",
       "    }\n",
       "    if (root.Bokeh !== undefined) {\n",
       "      if (el != null) {\n",
       "        el.textContent = \"BokehJS \" + root.Bokeh.version + \" successfully loaded.\";\n",
       "      }\n",
       "    } else if (Date.now() < root._bokeh_timeout) {\n",
       "      setTimeout(display_loaded, 100)\n",
       "    }\n",
       "  }\n",
       "\n",
       "\n",
       "  function run_callbacks() {\n",
       "    try {\n",
       "      root._bokeh_onload_callbacks.forEach(function(callback) { callback() });\n",
       "    }\n",
       "    finally {\n",
       "      delete root._bokeh_onload_callbacks\n",
       "    }\n",
       "    console.info(\"Bokeh: all callbacks have finished\");\n",
       "  }\n",
       "\n",
       "  function load_libs(js_urls, callback) {\n",
       "    root._bokeh_onload_callbacks.push(callback);\n",
       "    if (root._bokeh_is_loading > 0) {\n",
       "      console.log(\"Bokeh: BokehJS is being loaded, scheduling callback at\", now());\n",
       "      return null;\n",
       "    }\n",
       "    if (js_urls == null || js_urls.length === 0) {\n",
       "      run_callbacks();\n",
       "      return null;\n",
       "    }\n",
       "    console.log(\"Bokeh: BokehJS not loaded, scheduling load and callback at\", now());\n",
       "    root._bokeh_is_loading = js_urls.length;\n",
       "    for (var i = 0; i < js_urls.length; i++) {\n",
       "      var url = js_urls[i];\n",
       "      var s = document.createElement('script');\n",
       "      s.src = url;\n",
       "      s.async = false;\n",
       "      s.onreadystatechange = s.onload = function() {\n",
       "        root._bokeh_is_loading--;\n",
       "        if (root._bokeh_is_loading === 0) {\n",
       "          console.log(\"Bokeh: all BokehJS libraries loaded\");\n",
       "          run_callbacks()\n",
       "        }\n",
       "      };\n",
       "      s.onerror = function() {\n",
       "        console.warn(\"failed to load library \" + url);\n",
       "      };\n",
       "      console.log(\"Bokeh: injecting script tag for BokehJS library: \", url);\n",
       "      document.getElementsByTagName(\"head\")[0].appendChild(s);\n",
       "    }\n",
       "  };var element = document.getElementById(\"9818\");\n",
       "  if (element == null) {\n",
       "    console.log(\"Bokeh: ERROR: autoload.js configured with elementid '9818' but no matching script tag was found. \")\n",
       "    return false;\n",
       "  }\n",
       "\n",
       "  var js_urls = [\"https://cdn.pydata.org/bokeh/release/bokeh-1.0.4.min.js\", \"https://cdn.pydata.org/bokeh/release/bokeh-widgets-1.0.4.min.js\", \"https://cdn.pydata.org/bokeh/release/bokeh-tables-1.0.4.min.js\", \"https://cdn.pydata.org/bokeh/release/bokeh-gl-1.0.4.min.js\"];\n",
       "\n",
       "  var inline_js = [\n",
       "    function(Bokeh) {\n",
       "      Bokeh.set_log_level(\"info\");\n",
       "    },\n",
       "    \n",
       "    function(Bokeh) {\n",
       "      \n",
       "    },\n",
       "    function(Bokeh) {\n",
       "      console.log(\"Bokeh: injecting CSS: https://cdn.pydata.org/bokeh/release/bokeh-1.0.4.min.css\");\n",
       "      Bokeh.embed.inject_css(\"https://cdn.pydata.org/bokeh/release/bokeh-1.0.4.min.css\");\n",
       "      console.log(\"Bokeh: injecting CSS: https://cdn.pydata.org/bokeh/release/bokeh-widgets-1.0.4.min.css\");\n",
       "      Bokeh.embed.inject_css(\"https://cdn.pydata.org/bokeh/release/bokeh-widgets-1.0.4.min.css\");\n",
       "      console.log(\"Bokeh: injecting CSS: https://cdn.pydata.org/bokeh/release/bokeh-tables-1.0.4.min.css\");\n",
       "      Bokeh.embed.inject_css(\"https://cdn.pydata.org/bokeh/release/bokeh-tables-1.0.4.min.css\");\n",
       "    }\n",
       "  ];\n",
       "\n",
       "  function run_inline_js() {\n",
       "    \n",
       "    if ((root.Bokeh !== undefined) || (force === true)) {\n",
       "      for (var i = 0; i < inline_js.length; i++) {\n",
       "        inline_js[i].call(root, root.Bokeh);\n",
       "      }if (force === true) {\n",
       "        display_loaded();\n",
       "      }} else if (Date.now() < root._bokeh_timeout) {\n",
       "      setTimeout(run_inline_js, 100);\n",
       "    } else if (!root._bokeh_failed_load) {\n",
       "      console.log(\"Bokeh: BokehJS failed to load within specified timeout.\");\n",
       "      root._bokeh_failed_load = true;\n",
       "    } else if (force !== true) {\n",
       "      var cell = $(document.getElementById(\"9818\")).parents('.cell').data().cell;\n",
       "      cell.output_area.append_execute_result(NB_LOAD_WARNING)\n",
       "    }\n",
       "\n",
       "  }\n",
       "\n",
       "  if (root._bokeh_is_loading === 0) {\n",
       "    console.log(\"Bokeh: BokehJS loaded, going straight to plotting\");\n",
       "    run_inline_js();\n",
       "  } else {\n",
       "    load_libs(js_urls, function() {\n",
       "      console.log(\"Bokeh: BokehJS plotting callback run at\", now());\n",
       "      run_inline_js();\n",
       "    });\n",
       "  }\n",
       "}(window));"
      ],
      "application/vnd.bokehjs_load.v0+json": "\n(function(root) {\n  function now() {\n    return new Date();\n  }\n\n  var force = true;\n\n  if (typeof (root._bokeh_onload_callbacks) === \"undefined\" || force === true) {\n    root._bokeh_onload_callbacks = [];\n    root._bokeh_is_loading = undefined;\n  }\n\n  \n\n  \n  if (typeof (root._bokeh_timeout) === \"undefined\" || force === true) {\n    root._bokeh_timeout = Date.now() + 5000;\n    root._bokeh_failed_load = false;\n  }\n\n  var NB_LOAD_WARNING = {'data': {'text/html':\n     \"<div style='background-color: #fdd'>\\n\"+\n     \"<p>\\n\"+\n     \"BokehJS does not appear to have successfully loaded. If loading BokehJS from CDN, this \\n\"+\n     \"may be due to a slow or bad network connection. Possible fixes:\\n\"+\n     \"</p>\\n\"+\n     \"<ul>\\n\"+\n     \"<li>re-rerun `output_notebook()` to attempt to load from CDN again, or</li>\\n\"+\n     \"<li>use INLINE resources instead, as so:</li>\\n\"+\n     \"</ul>\\n\"+\n     \"<code>\\n\"+\n     \"from bokeh.resources import INLINE\\n\"+\n     \"output_notebook(resources=INLINE)\\n\"+\n     \"</code>\\n\"+\n     \"</div>\"}};\n\n  function display_loaded() {\n    var el = document.getElementById(\"9818\");\n    if (el != null) {\n      el.textContent = \"BokehJS is loading...\";\n    }\n    if (root.Bokeh !== undefined) {\n      if (el != null) {\n        el.textContent = \"BokehJS \" + root.Bokeh.version + \" successfully loaded.\";\n      }\n    } else if (Date.now() < root._bokeh_timeout) {\n      setTimeout(display_loaded, 100)\n    }\n  }\n\n\n  function run_callbacks() {\n    try {\n      root._bokeh_onload_callbacks.forEach(function(callback) { callback() });\n    }\n    finally {\n      delete root._bokeh_onload_callbacks\n    }\n    console.info(\"Bokeh: all callbacks have finished\");\n  }\n\n  function load_libs(js_urls, callback) {\n    root._bokeh_onload_callbacks.push(callback);\n    if (root._bokeh_is_loading > 0) {\n      console.log(\"Bokeh: BokehJS is being loaded, scheduling callback at\", now());\n      return null;\n    }\n    if (js_urls == null || js_urls.length === 0) {\n      run_callbacks();\n      return null;\n    }\n    console.log(\"Bokeh: BokehJS not loaded, scheduling load and callback at\", now());\n    root._bokeh_is_loading = js_urls.length;\n    for (var i = 0; i < js_urls.length; i++) {\n      var url = js_urls[i];\n      var s = document.createElement('script');\n      s.src = url;\n      s.async = false;\n      s.onreadystatechange = s.onload = function() {\n        root._bokeh_is_loading--;\n        if (root._bokeh_is_loading === 0) {\n          console.log(\"Bokeh: all BokehJS libraries loaded\");\n          run_callbacks()\n        }\n      };\n      s.onerror = function() {\n        console.warn(\"failed to load library \" + url);\n      };\n      console.log(\"Bokeh: injecting script tag for BokehJS library: \", url);\n      document.getElementsByTagName(\"head\")[0].appendChild(s);\n    }\n  };var element = document.getElementById(\"9818\");\n  if (element == null) {\n    console.log(\"Bokeh: ERROR: autoload.js configured with elementid '9818' but no matching script tag was found. \")\n    return false;\n  }\n\n  var js_urls = [\"https://cdn.pydata.org/bokeh/release/bokeh-1.0.4.min.js\", \"https://cdn.pydata.org/bokeh/release/bokeh-widgets-1.0.4.min.js\", \"https://cdn.pydata.org/bokeh/release/bokeh-tables-1.0.4.min.js\", \"https://cdn.pydata.org/bokeh/release/bokeh-gl-1.0.4.min.js\"];\n\n  var inline_js = [\n    function(Bokeh) {\n      Bokeh.set_log_level(\"info\");\n    },\n    \n    function(Bokeh) {\n      \n    },\n    function(Bokeh) {\n      console.log(\"Bokeh: injecting CSS: https://cdn.pydata.org/bokeh/release/bokeh-1.0.4.min.css\");\n      Bokeh.embed.inject_css(\"https://cdn.pydata.org/bokeh/release/bokeh-1.0.4.min.css\");\n      console.log(\"Bokeh: injecting CSS: https://cdn.pydata.org/bokeh/release/bokeh-widgets-1.0.4.min.css\");\n      Bokeh.embed.inject_css(\"https://cdn.pydata.org/bokeh/release/bokeh-widgets-1.0.4.min.css\");\n      console.log(\"Bokeh: injecting CSS: https://cdn.pydata.org/bokeh/release/bokeh-tables-1.0.4.min.css\");\n      Bokeh.embed.inject_css(\"https://cdn.pydata.org/bokeh/release/bokeh-tables-1.0.4.min.css\");\n    }\n  ];\n\n  function run_inline_js() {\n    \n    if ((root.Bokeh !== undefined) || (force === true)) {\n      for (var i = 0; i < inline_js.length; i++) {\n        inline_js[i].call(root, root.Bokeh);\n      }if (force === true) {\n        display_loaded();\n      }} else if (Date.now() < root._bokeh_timeout) {\n      setTimeout(run_inline_js, 100);\n    } else if (!root._bokeh_failed_load) {\n      console.log(\"Bokeh: BokehJS failed to load within specified timeout.\");\n      root._bokeh_failed_load = true;\n    } else if (force !== true) {\n      var cell = $(document.getElementById(\"9818\")).parents('.cell').data().cell;\n      cell.output_area.append_execute_result(NB_LOAD_WARNING)\n    }\n\n  }\n\n  if (root._bokeh_is_loading === 0) {\n    console.log(\"Bokeh: BokehJS loaded, going straight to plotting\");\n    run_inline_js();\n  } else {\n    load_libs(js_urls, function() {\n      console.log(\"Bokeh: BokehJS plotting callback run at\", now());\n      run_inline_js();\n    });\n  }\n}(window));"
     },
     "metadata": {},
     "output_type": "display_data"
    }
   ],
   "source": [
    "import pandas as pd\n",
    "import math\n",
    "from bokeh.models import ColumnDataSource, Whisker, Range1d, NumeralTickFormatter\n",
    "from bokeh.plotting import figure, show\n",
    "from bokeh.io import output_notebook\n",
    "output_notebook()"
   ]
  },
  {
   "cell_type": "code",
   "execution_count": 46,
   "metadata": {},
   "outputs": [],
   "source": [
    "def whisker_plot(task, coef, error):\n",
    "    jobs = [\"Data scientist\", \"Software engineer\", \"Data analyst\", \"Research scientist\",\n",
    "        \"Research assistant\", \"Consultant\", \"Data Engineer\", \"Business Analyst\", \"Manager\"]\n",
    "    \n",
    "    title = \"Percent of time spent \" + task\n",
    "    p = figure(x_range=jobs, plot_height=350, title=title,\n",
    "               toolbar_location=None, tools=\"\")\n",
    "    p.scatter(x=jobs, y=coef, radius=0.07)\n",
    "\n",
    "    lower = [c - error[i] for i, c in enumerate(coef)]\n",
    "    upper = [c +error[i] for i, c in enumerate(coef)]\n",
    "    source_error = ColumnDataSource(data=dict(base=jobs, lower=lower, upper=upper))\n",
    "    p.add_layout(\n",
    "        Whisker(source=source_error, base=\"base\", upper=\"upper\", lower=\"lower\")\n",
    "    )\n",
    "    p.xaxis.major_label_orientation = math.pi/4\n",
    "    p.y_range = Range1d(min(lower)-0.5, max(upper)+0.5)\n",
    "    return p"
   ]
  },
  {
   "cell_type": "code",
   "execution_count": 47,
   "metadata": {},
   "outputs": [
    {
     "data": {
      "text/html": [
       "\n",
       "\n",
       "\n",
       "\n",
       "\n",
       "\n",
       "  <div class=\"bk-root\" id=\"3415dd26-d2dc-4518-afd7-85a971515fd1\" data-root-id=\"6580\"></div>\n"
      ]
     },
     "metadata": {},
     "output_type": "display_data"
    },
    {
     "data": {
      "application/javascript": [
       "(function(root) {\n",
       "  function embed_document(root) {\n",
       "    \n",
       "  var docs_json = {\"22d6fc44-5e0e-46c3-af63-0faa42293594\":{\"roots\":{\"references\":[{\"attributes\":{\"below\":[{\"id\":\"6590\",\"type\":\"CategoricalAxis\"}],\"left\":[{\"id\":\"6594\",\"type\":\"LinearAxis\"}],\"plot_height\":350,\"renderers\":[{\"id\":\"6590\",\"type\":\"CategoricalAxis\"},{\"id\":\"6593\",\"type\":\"Grid\"},{\"id\":\"6594\",\"type\":\"LinearAxis\"},{\"id\":\"6598\",\"type\":\"Grid\"},{\"id\":\"6603\",\"type\":\"GlyphRenderer\"},{\"id\":\"6606\",\"type\":\"Whisker\"}],\"title\":{\"id\":\"6579\",\"type\":\"Title\"},\"toolbar\":{\"id\":\"6599\",\"type\":\"Toolbar\"},\"toolbar_location\":null,\"x_range\":{\"id\":\"6582\",\"type\":\"FactorRange\"},\"x_scale\":{\"id\":\"6586\",\"type\":\"CategoricalScale\"},\"y_range\":{\"id\":\"6608\",\"type\":\"Range1d\"},\"y_scale\":{\"id\":\"6588\",\"type\":\"LinearScale\"}},\"id\":\"6580\",\"subtype\":\"Figure\",\"type\":\"Plot\"},{\"attributes\":{\"dimension\":1,\"plot\":{\"id\":\"6580\",\"subtype\":\"Figure\",\"type\":\"Plot\"},\"ticker\":{\"id\":\"6595\",\"type\":\"BasicTicker\"}},\"id\":\"6598\",\"type\":\"Grid\"},{\"attributes\":{\"data_source\":{\"id\":\"6600\",\"type\":\"ColumnDataSource\"},\"glyph\":{\"id\":\"6601\",\"type\":\"Circle\"},\"hover_glyph\":null,\"muted_glyph\":null,\"nonselection_glyph\":{\"id\":\"6602\",\"type\":\"Circle\"},\"selection_glyph\":null,\"view\":{\"id\":\"6604\",\"type\":\"CDSView\"}},\"id\":\"6603\",\"type\":\"GlyphRenderer\"},{\"attributes\":{},\"id\":\"6588\",\"type\":\"LinearScale\"},{\"attributes\":{\"callback\":null,\"factors\":[\"Data scientist\",\"Software engineer\",\"Data analyst\",\"Research scientist\",\"Research assistant\",\"Consultant\",\"Data Engineer\",\"Business Analyst\",\"Manager\"]},\"id\":\"6582\",\"type\":\"FactorRange\"},{\"attributes\":{\"fill_color\":{\"value\":\"#1f77b4\"},\"line_color\":{\"value\":\"#1f77b4\"},\"radius\":{\"units\":\"data\",\"value\":0.07},\"x\":{\"field\":\"x\"},\"y\":{\"field\":\"y\"}},\"id\":\"6601\",\"type\":\"Circle\"},{\"attributes\":{\"active_drag\":\"auto\",\"active_inspect\":\"auto\",\"active_multi\":null,\"active_scroll\":\"auto\",\"active_tap\":\"auto\"},\"id\":\"6599\",\"type\":\"Toolbar\"},{\"attributes\":{\"plot\":null,\"text\":\"Percent of time spent cleaning data\"},\"id\":\"6579\",\"type\":\"Title\"},{\"attributes\":{\"callback\":null,\"data\":{\"x\":[\"Data scientist\",\"Software engineer\",\"Data analyst\",\"Research scientist\",\"Research assistant\",\"Consultant\",\"Data Engineer\",\"Business Analyst\",\"Manager\"],\"y\":[29.13,24.79,31.3,25.13,25.05,29.1,30.21,29.95,28.13]},\"selected\":{\"id\":\"6870\",\"type\":\"Selection\"},\"selection_policy\":{\"id\":\"6869\",\"type\":\"UnionRenderers\"}},\"id\":\"6600\",\"type\":\"ColumnDataSource\"},{\"attributes\":{\"formatter\":{\"id\":\"6865\",\"type\":\"BasicTickFormatter\"},\"plot\":{\"id\":\"6580\",\"subtype\":\"Figure\",\"type\":\"Plot\"},\"ticker\":{\"id\":\"6595\",\"type\":\"BasicTicker\"}},\"id\":\"6594\",\"type\":\"LinearAxis\"},{\"attributes\":{},\"id\":\"6871\",\"type\":\"UnionRenderers\"},{\"attributes\":{\"level\":\"underlay\",\"plot\":null,\"size\":10},\"id\":\"6867\",\"type\":\"TeeHead\"},{\"attributes\":{\"formatter\":{\"id\":\"6863\",\"type\":\"CategoricalTickFormatter\"},\"major_label_orientation\":0.7853981633974483,\"plot\":{\"id\":\"6580\",\"subtype\":\"Figure\",\"type\":\"Plot\"},\"ticker\":{\"id\":\"6591\",\"type\":\"CategoricalTicker\"}},\"id\":\"6590\",\"type\":\"CategoricalAxis\"},{\"attributes\":{\"fill_alpha\":{\"value\":0.1},\"fill_color\":{\"value\":\"#1f77b4\"},\"line_alpha\":{\"value\":0.1},\"line_color\":{\"value\":\"#1f77b4\"},\"radius\":{\"units\":\"data\",\"value\":0.07},\"x\":{\"field\":\"x\"},\"y\":{\"field\":\"y\"}},\"id\":\"6602\",\"type\":\"Circle\"},{\"attributes\":{\"callback\":null,\"end\":32.4977,\"start\":23.445},\"id\":\"6608\",\"type\":\"Range1d\"},{\"attributes\":{},\"id\":\"6595\",\"type\":\"BasicTicker\"},{\"attributes\":{},\"id\":\"6872\",\"type\":\"Selection\"},{\"attributes\":{},\"id\":\"6869\",\"type\":\"UnionRenderers\"},{\"attributes\":{},\"id\":\"6870\",\"type\":\"Selection\"},{\"attributes\":{\"plot\":{\"id\":\"6580\",\"subtype\":\"Figure\",\"type\":\"Plot\"},\"ticker\":{\"id\":\"6591\",\"type\":\"CategoricalTicker\"}},\"id\":\"6593\",\"type\":\"Grid\"},{\"attributes\":{\"level\":\"underlay\",\"plot\":null,\"size\":10},\"id\":\"6868\",\"type\":\"TeeHead\"},{\"attributes\":{},\"id\":\"6863\",\"type\":\"CategoricalTickFormatter\"},{\"attributes\":{},\"id\":\"6865\",\"type\":\"BasicTickFormatter\"},{\"attributes\":{\"base\":{\"field\":\"base\",\"units\":\"data\"},\"lower\":{\"field\":\"lower\",\"units\":\"data\"},\"lower_head\":{\"id\":\"6867\",\"type\":\"TeeHead\"},\"plot\":{\"id\":\"6580\",\"subtype\":\"Figure\",\"type\":\"Plot\"},\"source\":{\"id\":\"6605\",\"type\":\"ColumnDataSource\"},\"upper\":{\"field\":\"upper\",\"units\":\"data\"},\"upper_head\":{\"id\":\"6868\",\"type\":\"TeeHead\"}},\"id\":\"6606\",\"type\":\"Whisker\"},{\"attributes\":{},\"id\":\"6586\",\"type\":\"CategoricalScale\"},{\"attributes\":{\"callback\":null,\"data\":{\"base\":[\"Data scientist\",\"Software engineer\",\"Data analyst\",\"Research scientist\",\"Research assistant\",\"Consultant\",\"Data Engineer\",\"Business Analyst\",\"Manager\"],\"lower\":[28.4838,24.1018,30.6023,24.2194,23.945,28.1541,29.2821,29.0382,27.099],\"upper\":[29.7762,25.478199999999998,31.997700000000002,26.040599999999998,26.155,30.045900000000003,31.137900000000002,30.8618,29.160999999999998]},\"selected\":{\"id\":\"6872\",\"type\":\"Selection\"},\"selection_policy\":{\"id\":\"6871\",\"type\":\"UnionRenderers\"}},\"id\":\"6605\",\"type\":\"ColumnDataSource\"},{\"attributes\":{\"source\":{\"id\":\"6600\",\"type\":\"ColumnDataSource\"}},\"id\":\"6604\",\"type\":\"CDSView\"},{\"attributes\":{},\"id\":\"6591\",\"type\":\"CategoricalTicker\"}],\"root_ids\":[\"6580\"]},\"title\":\"Bokeh Application\",\"version\":\"1.0.4\"}};\n",
       "  var render_items = [{\"docid\":\"22d6fc44-5e0e-46c3-af63-0faa42293594\",\"roots\":{\"6580\":\"3415dd26-d2dc-4518-afd7-85a971515fd1\"}}];\n",
       "  root.Bokeh.embed.embed_items_notebook(docs_json, render_items);\n",
       "\n",
       "  }\n",
       "  if (root.Bokeh !== undefined) {\n",
       "    embed_document(root);\n",
       "  } else {\n",
       "    var attempts = 0;\n",
       "    var timer = setInterval(function(root) {\n",
       "      if (root.Bokeh !== undefined) {\n",
       "        embed_document(root);\n",
       "        clearInterval(timer);\n",
       "      }\n",
       "      attempts++;\n",
       "      if (attempts > 100) {\n",
       "        console.log(\"Bokeh: ERROR: Unable to run BokehJS code because BokehJS library is missing\");\n",
       "        clearInterval(timer);\n",
       "      }\n",
       "    }, 10, root)\n",
       "  }\n",
       "})(window);"
      ],
      "application/vnd.bokehjs_exec.v0+json": ""
     },
     "metadata": {
      "application/vnd.bokehjs_exec.v0+json": {
       "id": "6580"
      }
     },
     "output_type": "display_data"
    }
   ],
   "source": [
    "# clean data plot\n",
    "data_clean_coef = [29.13, 24.79, 31.30, 25.13, 25.05, 29.10, 30.21, 29.95, 28.13]\n",
    "data_clean_error = [.6462, .6882, .6977, .9106, 1.105, .9459, .9279, .9118, 1.031]\n",
    "clean_data_plot = whisker_plot(\"cleaning data\", data_clean_coef, data_clean_error)\n",
    "show(clean_data_plot)"
   ]
  },
  {
   "cell_type": "code",
   "execution_count": 48,
   "metadata": {},
   "outputs": [
    {
     "data": {
      "text/html": [
       "\n",
       "\n",
       "\n",
       "\n",
       "\n",
       "\n",
       "  <div class=\"bk-root\" id=\"8e28cb6b-e01a-430c-a220-5f267de6aad3\" data-root-id=\"6940\"></div>\n"
      ]
     },
     "metadata": {},
     "output_type": "display_data"
    },
    {
     "data": {
      "application/javascript": [
       "(function(root) {\n",
       "  function embed_document(root) {\n",
       "    \n",
       "  var docs_json = {\"1fb727c4-5cf2-4ab3-94d9-35c7f6bb7074\":{\"roots\":{\"references\":[{\"attributes\":{\"below\":[{\"id\":\"6950\",\"type\":\"CategoricalAxis\"}],\"left\":[{\"id\":\"6954\",\"type\":\"LinearAxis\"}],\"plot_height\":350,\"renderers\":[{\"id\":\"6950\",\"type\":\"CategoricalAxis\"},{\"id\":\"6953\",\"type\":\"Grid\"},{\"id\":\"6954\",\"type\":\"LinearAxis\"},{\"id\":\"6958\",\"type\":\"Grid\"},{\"id\":\"6963\",\"type\":\"GlyphRenderer\"},{\"id\":\"6966\",\"type\":\"Whisker\"}],\"title\":{\"id\":\"6939\",\"type\":\"Title\"},\"toolbar\":{\"id\":\"6959\",\"type\":\"Toolbar\"},\"toolbar_location\":null,\"x_range\":{\"id\":\"6942\",\"type\":\"FactorRange\"},\"x_scale\":{\"id\":\"6946\",\"type\":\"CategoricalScale\"},\"y_range\":{\"id\":\"6968\",\"type\":\"Range1d\"},\"y_scale\":{\"id\":\"6948\",\"type\":\"LinearScale\"}},\"id\":\"6940\",\"subtype\":\"Figure\",\"type\":\"Plot\"},{\"attributes\":{\"callback\":null,\"end\":18.098799999999997,\"start\":13.0131},\"id\":\"6968\",\"type\":\"Range1d\"},{\"attributes\":{\"callback\":null,\"data\":{\"base\":[\"Data scientist\",\"Software engineer\",\"Data analyst\",\"Research scientist\",\"Research assistant\",\"Consultant\",\"Data Engineer\",\"Business Analyst\",\"Manager\"],\"lower\":[14.2743,14.0373,16.7012,14.444199999999999,13.9989,15.5016,13.5131,16.043499999999998,15.2665],\"upper\":[15.105699999999999,14.9227,17.598799999999997,15.6158,15.421100000000001,16.7184,14.7069,17.2165,16.5935]},\"selected\":{\"id\":\"7243\",\"type\":\"Selection\"},\"selection_policy\":{\"id\":\"7242\",\"type\":\"UnionRenderers\"}},\"id\":\"6965\",\"type\":\"ColumnDataSource\"},{\"attributes\":{\"callback\":null,\"factors\":[\"Data scientist\",\"Software engineer\",\"Data analyst\",\"Research scientist\",\"Research assistant\",\"Consultant\",\"Data Engineer\",\"Business Analyst\",\"Manager\"]},\"id\":\"6942\",\"type\":\"FactorRange\"},{\"attributes\":{\"data_source\":{\"id\":\"6960\",\"type\":\"ColumnDataSource\"},\"glyph\":{\"id\":\"6961\",\"type\":\"Circle\"},\"hover_glyph\":null,\"muted_glyph\":null,\"nonselection_glyph\":{\"id\":\"6962\",\"type\":\"Circle\"},\"selection_glyph\":null,\"view\":{\"id\":\"6964\",\"type\":\"CDSView\"}},\"id\":\"6963\",\"type\":\"GlyphRenderer\"},{\"attributes\":{\"level\":\"underlay\",\"plot\":null,\"size\":10},\"id\":\"7238\",\"type\":\"TeeHead\"},{\"attributes\":{\"callback\":null,\"data\":{\"x\":[\"Data scientist\",\"Software engineer\",\"Data analyst\",\"Research scientist\",\"Research assistant\",\"Consultant\",\"Data Engineer\",\"Business Analyst\",\"Manager\"],\"y\":[14.69,14.48,17.15,15.03,14.71,16.11,14.11,16.63,15.93]},\"selected\":{\"id\":\"7241\",\"type\":\"Selection\"},\"selection_policy\":{\"id\":\"7240\",\"type\":\"UnionRenderers\"}},\"id\":\"6960\",\"type\":\"ColumnDataSource\"},{\"attributes\":{\"active_drag\":\"auto\",\"active_inspect\":\"auto\",\"active_multi\":null,\"active_scroll\":\"auto\",\"active_tap\":\"auto\"},\"id\":\"6959\",\"type\":\"Toolbar\"},{\"attributes\":{},\"id\":\"7236\",\"type\":\"BasicTickFormatter\"},{\"attributes\":{\"fill_color\":{\"value\":\"#1f77b4\"},\"line_color\":{\"value\":\"#1f77b4\"},\"radius\":{\"units\":\"data\",\"value\":0.07},\"x\":{\"field\":\"x\"},\"y\":{\"field\":\"y\"}},\"id\":\"6961\",\"type\":\"Circle\"},{\"attributes\":{\"fill_alpha\":{\"value\":0.1},\"fill_color\":{\"value\":\"#1f77b4\"},\"line_alpha\":{\"value\":0.1},\"line_color\":{\"value\":\"#1f77b4\"},\"radius\":{\"units\":\"data\",\"value\":0.07},\"x\":{\"field\":\"x\"},\"y\":{\"field\":\"y\"}},\"id\":\"6962\",\"type\":\"Circle\"},{\"attributes\":{\"level\":\"underlay\",\"plot\":null,\"size\":10},\"id\":\"7239\",\"type\":\"TeeHead\"},{\"attributes\":{},\"id\":\"7240\",\"type\":\"UnionRenderers\"},{\"attributes\":{\"source\":{\"id\":\"6960\",\"type\":\"ColumnDataSource\"}},\"id\":\"6964\",\"type\":\"CDSView\"},{\"attributes\":{},\"id\":\"7241\",\"type\":\"Selection\"},{\"attributes\":{\"dimension\":1,\"plot\":{\"id\":\"6940\",\"subtype\":\"Figure\",\"type\":\"Plot\"},\"ticker\":{\"id\":\"6955\",\"type\":\"BasicTicker\"}},\"id\":\"6958\",\"type\":\"Grid\"},{\"attributes\":{},\"id\":\"7242\",\"type\":\"UnionRenderers\"},{\"attributes\":{},\"id\":\"6955\",\"type\":\"BasicTicker\"},{\"attributes\":{},\"id\":\"7243\",\"type\":\"Selection\"},{\"attributes\":{},\"id\":\"6948\",\"type\":\"LinearScale\"},{\"attributes\":{\"formatter\":{\"id\":\"7234\",\"type\":\"CategoricalTickFormatter\"},\"major_label_orientation\":0.7853981633974483,\"plot\":{\"id\":\"6940\",\"subtype\":\"Figure\",\"type\":\"Plot\"},\"ticker\":{\"id\":\"6951\",\"type\":\"CategoricalTicker\"}},\"id\":\"6950\",\"type\":\"CategoricalAxis\"},{\"attributes\":{},\"id\":\"6946\",\"type\":\"CategoricalScale\"},{\"attributes\":{},\"id\":\"6951\",\"type\":\"CategoricalTicker\"},{\"attributes\":{},\"id\":\"7234\",\"type\":\"CategoricalTickFormatter\"},{\"attributes\":{\"formatter\":{\"id\":\"7236\",\"type\":\"BasicTickFormatter\"},\"plot\":{\"id\":\"6940\",\"subtype\":\"Figure\",\"type\":\"Plot\"},\"ticker\":{\"id\":\"6955\",\"type\":\"BasicTicker\"}},\"id\":\"6954\",\"type\":\"LinearAxis\"},{\"attributes\":{\"plot\":{\"id\":\"6940\",\"subtype\":\"Figure\",\"type\":\"Plot\"},\"ticker\":{\"id\":\"6951\",\"type\":\"CategoricalTicker\"}},\"id\":\"6953\",\"type\":\"Grid\"},{\"attributes\":{\"plot\":null,\"text\":\"Percent of time spent visualizing data\"},\"id\":\"6939\",\"type\":\"Title\"},{\"attributes\":{\"base\":{\"field\":\"base\",\"units\":\"data\"},\"lower\":{\"field\":\"lower\",\"units\":\"data\"},\"lower_head\":{\"id\":\"7238\",\"type\":\"TeeHead\"},\"plot\":{\"id\":\"6940\",\"subtype\":\"Figure\",\"type\":\"Plot\"},\"source\":{\"id\":\"6965\",\"type\":\"ColumnDataSource\"},\"upper\":{\"field\":\"upper\",\"units\":\"data\"},\"upper_head\":{\"id\":\"7239\",\"type\":\"TeeHead\"}},\"id\":\"6966\",\"type\":\"Whisker\"}],\"root_ids\":[\"6940\"]},\"title\":\"Bokeh Application\",\"version\":\"1.0.4\"}};\n",
       "  var render_items = [{\"docid\":\"1fb727c4-5cf2-4ab3-94d9-35c7f6bb7074\",\"roots\":{\"6940\":\"8e28cb6b-e01a-430c-a220-5f267de6aad3\"}}];\n",
       "  root.Bokeh.embed.embed_items_notebook(docs_json, render_items);\n",
       "\n",
       "  }\n",
       "  if (root.Bokeh !== undefined) {\n",
       "    embed_document(root);\n",
       "  } else {\n",
       "    var attempts = 0;\n",
       "    var timer = setInterval(function(root) {\n",
       "      if (root.Bokeh !== undefined) {\n",
       "        embed_document(root);\n",
       "        clearInterval(timer);\n",
       "      }\n",
       "      attempts++;\n",
       "      if (attempts > 100) {\n",
       "        console.log(\"Bokeh: ERROR: Unable to run BokehJS code because BokehJS library is missing\");\n",
       "        clearInterval(timer);\n",
       "      }\n",
       "    }, 10, root)\n",
       "  }\n",
       "})(window);"
      ],
      "application/vnd.bokehjs_exec.v0+json": ""
     },
     "metadata": {
      "application/vnd.bokehjs_exec.v0+json": {
       "id": "6940"
      }
     },
     "output_type": "display_data"
    }
   ],
   "source": [
    "# data viz plot\n",
    "data_viz_coef = [14.69, 14.48, 17.15, 15.03, 14.71, 16.11, 14.11, 16.63, 15.93]\n",
    "data_viz_error = [.4157, .4427, .4488, .5858, .7111, .6084, .5969, .5865, .6635]\n",
    "data_viz_plot = whisker_plot(\"visualizing data\", data_viz_coef, data_viz_error)\n",
    "show(data_viz_plot)"
   ]
  },
  {
   "cell_type": "code",
   "execution_count": 50,
   "metadata": {},
   "outputs": [
    {
     "data": {
      "text/html": [
       "\n",
       "\n",
       "\n",
       "\n",
       "\n",
       "\n",
       "  <div class=\"bk-root\" id=\"7a3d724b-dec2-4fea-b73d-2f85731c7bf9\" data-root-id=\"7341\"></div>\n"
      ]
     },
     "metadata": {},
     "output_type": "display_data"
    },
    {
     "data": {
      "application/javascript": [
       "(function(root) {\n",
       "  function embed_document(root) {\n",
       "    \n",
       "  var docs_json = {\"dbd883e5-f147-44b2-b057-3a19bc303e50\":{\"roots\":{\"references\":[{\"attributes\":{\"below\":[{\"id\":\"7351\",\"type\":\"CategoricalAxis\"}],\"left\":[{\"id\":\"7355\",\"type\":\"LinearAxis\"}],\"plot_height\":350,\"renderers\":[{\"id\":\"7351\",\"type\":\"CategoricalAxis\"},{\"id\":\"7354\",\"type\":\"Grid\"},{\"id\":\"7355\",\"type\":\"LinearAxis\"},{\"id\":\"7359\",\"type\":\"Grid\"},{\"id\":\"7364\",\"type\":\"GlyphRenderer\"},{\"id\":\"7367\",\"type\":\"Whisker\"}],\"title\":{\"id\":\"7340\",\"type\":\"Title\"},\"toolbar\":{\"id\":\"7360\",\"type\":\"Toolbar\"},\"toolbar_location\":null,\"x_range\":{\"id\":\"7343\",\"type\":\"FactorRange\"},\"x_scale\":{\"id\":\"7347\",\"type\":\"CategoricalScale\"},\"y_range\":{\"id\":\"7369\",\"type\":\"Range1d\"},\"y_scale\":{\"id\":\"7349\",\"type\":\"LinearScale\"}},\"id\":\"7341\",\"subtype\":\"Figure\",\"type\":\"Plot\"},{\"attributes\":{\"level\":\"underlay\",\"plot\":null,\"size\":10},\"id\":\"7650\",\"type\":\"TeeHead\"},{\"attributes\":{},\"id\":\"7349\",\"type\":\"LinearScale\"},{\"attributes\":{},\"id\":\"7347\",\"type\":\"CategoricalScale\"},{\"attributes\":{\"level\":\"underlay\",\"plot\":null,\"size\":10},\"id\":\"7651\",\"type\":\"TeeHead\"},{\"attributes\":{\"formatter\":{\"id\":\"7646\",\"type\":\"CategoricalTickFormatter\"},\"major_label_orientation\":0.7853981633974483,\"plot\":{\"id\":\"7341\",\"subtype\":\"Figure\",\"type\":\"Plot\"},\"ticker\":{\"id\":\"7352\",\"type\":\"CategoricalTicker\"}},\"id\":\"7351\",\"type\":\"CategoricalAxis\"},{\"attributes\":{},\"id\":\"7652\",\"type\":\"UnionRenderers\"},{\"attributes\":{},\"id\":\"7352\",\"type\":\"CategoricalTicker\"},{\"attributes\":{},\"id\":\"7653\",\"type\":\"Selection\"},{\"attributes\":{\"plot\":{\"id\":\"7341\",\"subtype\":\"Figure\",\"type\":\"Plot\"},\"ticker\":{\"id\":\"7352\",\"type\":\"CategoricalTicker\"}},\"id\":\"7354\",\"type\":\"Grid\"},{\"attributes\":{},\"id\":\"7654\",\"type\":\"UnionRenderers\"},{\"attributes\":{\"formatter\":{\"id\":\"7648\",\"type\":\"BasicTickFormatter\"},\"plot\":{\"id\":\"7341\",\"subtype\":\"Figure\",\"type\":\"Plot\"},\"ticker\":{\"id\":\"7356\",\"type\":\"BasicTicker\"}},\"id\":\"7355\",\"type\":\"LinearAxis\"},{\"attributes\":{},\"id\":\"7655\",\"type\":\"Selection\"},{\"attributes\":{},\"id\":\"7356\",\"type\":\"BasicTicker\"},{\"attributes\":{\"dimension\":1,\"plot\":{\"id\":\"7341\",\"subtype\":\"Figure\",\"type\":\"Plot\"},\"ticker\":{\"id\":\"7356\",\"type\":\"BasicTicker\"}},\"id\":\"7359\",\"type\":\"Grid\"},{\"attributes\":{\"active_drag\":\"auto\",\"active_inspect\":\"auto\",\"active_multi\":null,\"active_scroll\":\"auto\",\"active_tap\":\"auto\"},\"id\":\"7360\",\"type\":\"Toolbar\"},{\"attributes\":{\"fill_color\":{\"value\":\"#1f77b4\"},\"line_color\":{\"value\":\"#1f77b4\"},\"radius\":{\"units\":\"data\",\"value\":0.07},\"x\":{\"field\":\"x\"},\"y\":{\"field\":\"y\"}},\"id\":\"7362\",\"type\":\"Circle\"},{\"attributes\":{\"fill_alpha\":{\"value\":0.1},\"fill_color\":{\"value\":\"#1f77b4\"},\"line_alpha\":{\"value\":0.1},\"line_color\":{\"value\":\"#1f77b4\"},\"radius\":{\"units\":\"data\",\"value\":0.07},\"x\":{\"field\":\"x\"},\"y\":{\"field\":\"y\"}},\"id\":\"7363\",\"type\":\"Circle\"},{\"attributes\":{\"callback\":null,\"factors\":[\"Data scientist\",\"Software engineer\",\"Data analyst\",\"Research scientist\",\"Research assistant\",\"Consultant\",\"Data Engineer\",\"Business Analyst\",\"Manager\"]},\"id\":\"7343\",\"type\":\"FactorRange\"},{\"attributes\":{\"data_source\":{\"id\":\"7361\",\"type\":\"ColumnDataSource\"},\"glyph\":{\"id\":\"7362\",\"type\":\"Circle\"},\"hover_glyph\":null,\"muted_glyph\":null,\"nonselection_glyph\":{\"id\":\"7363\",\"type\":\"Circle\"},\"selection_glyph\":null,\"view\":{\"id\":\"7365\",\"type\":\"CDSView\"}},\"id\":\"7364\",\"type\":\"GlyphRenderer\"},{\"attributes\":{\"source\":{\"id\":\"7361\",\"type\":\"ColumnDataSource\"}},\"id\":\"7365\",\"type\":\"CDSView\"},{\"attributes\":{\"callback\":null,\"data\":{\"base\":[\"Data scientist\",\"Software engineer\",\"Data analyst\",\"Research scientist\",\"Research assistant\",\"Consultant\",\"Data Engineer\",\"Business Analyst\",\"Manager\"],\"lower\":[16.1305,17.6316,11.7527,18.7652,18.384,13.8125,14.5692,11.7041,12.6132],\"upper\":[17.3295,18.9084,13.0473,20.4548,20.436,15.567499999999999,16.2908,13.395900000000001,14.5268]},\"selected\":{\"id\":\"7655\",\"type\":\"Selection\"},\"selection_policy\":{\"id\":\"7654\",\"type\":\"UnionRenderers\"}},\"id\":\"7366\",\"type\":\"ColumnDataSource\"},{\"attributes\":{\"base\":{\"field\":\"base\",\"units\":\"data\"},\"lower\":{\"field\":\"lower\",\"units\":\"data\"},\"lower_head\":{\"id\":\"7650\",\"type\":\"TeeHead\"},\"plot\":{\"id\":\"7341\",\"subtype\":\"Figure\",\"type\":\"Plot\"},\"source\":{\"id\":\"7366\",\"type\":\"ColumnDataSource\"},\"upper\":{\"field\":\"upper\",\"units\":\"data\"},\"upper_head\":{\"id\":\"7651\",\"type\":\"TeeHead\"}},\"id\":\"7367\",\"type\":\"Whisker\"},{\"attributes\":{\"plot\":null,\"text\":\"Percent of time spent building models\"},\"id\":\"7340\",\"type\":\"Title\"},{\"attributes\":{\"callback\":null,\"data\":{\"x\":[\"Data scientist\",\"Software engineer\",\"Data analyst\",\"Research scientist\",\"Research assistant\",\"Consultant\",\"Data Engineer\",\"Business Analyst\",\"Manager\"],\"y\":[16.73,18.27,12.4,19.61,19.41,14.69,15.43,12.55,13.57]},\"selected\":{\"id\":\"7653\",\"type\":\"Selection\"},\"selection_policy\":{\"id\":\"7652\",\"type\":\"UnionRenderers\"}},\"id\":\"7361\",\"type\":\"ColumnDataSource\"},{\"attributes\":{\"callback\":null,\"end\":20.9548,\"start\":11.2041},\"id\":\"7369\",\"type\":\"Range1d\"},{\"attributes\":{},\"id\":\"7646\",\"type\":\"CategoricalTickFormatter\"},{\"attributes\":{},\"id\":\"7648\",\"type\":\"BasicTickFormatter\"}],\"root_ids\":[\"7341\"]},\"title\":\"Bokeh Application\",\"version\":\"1.0.4\"}};\n",
       "  var render_items = [{\"docid\":\"dbd883e5-f147-44b2-b057-3a19bc303e50\",\"roots\":{\"7341\":\"7a3d724b-dec2-4fea-b73d-2f85731c7bf9\"}}];\n",
       "  root.Bokeh.embed.embed_items_notebook(docs_json, render_items);\n",
       "\n",
       "  }\n",
       "  if (root.Bokeh !== undefined) {\n",
       "    embed_document(root);\n",
       "  } else {\n",
       "    var attempts = 0;\n",
       "    var timer = setInterval(function(root) {\n",
       "      if (root.Bokeh !== undefined) {\n",
       "        embed_document(root);\n",
       "        clearInterval(timer);\n",
       "      }\n",
       "      attempts++;\n",
       "      if (attempts > 100) {\n",
       "        console.log(\"Bokeh: ERROR: Unable to run BokehJS code because BokehJS library is missing\");\n",
       "        clearInterval(timer);\n",
       "      }\n",
       "    }, 10, root)\n",
       "  }\n",
       "})(window);"
      ],
      "application/vnd.bokehjs_exec.v0+json": ""
     },
     "metadata": {
      "application/vnd.bokehjs_exec.v0+json": {
       "id": "7341"
      }
     },
     "output_type": "display_data"
    }
   ],
   "source": [
    "# model build plot\n",
    "model_build_coef = [16.73, 18.27, 12.40, 19.61, 19.41, 14.69, 15.43, 12.55, 13.57]\n",
    "model_build_error = [.5995, .6384, .6473, .8448, 1.026, .8775, .8608, .8459, .9568]\n",
    "model_build_plot = whisker_plot(\"building models\", model_build_coef, model_build_error)\n",
    "show(model_build_plot)"
   ]
  },
  {
   "cell_type": "code",
   "execution_count": 52,
   "metadata": {},
   "outputs": [
    {
     "data": {
      "text/html": [
       "\n",
       "\n",
       "\n",
       "\n",
       "\n",
       "\n",
       "  <div class=\"bk-root\" id=\"e98f0806-6edb-479d-96b2-33e93bfeac21\" data-root-id=\"8116\"></div>\n"
      ]
     },
     "metadata": {},
     "output_type": "display_data"
    },
    {
     "data": {
      "application/javascript": [
       "(function(root) {\n",
       "  function embed_document(root) {\n",
       "    \n",
       "  var docs_json = {\"a8afcbef-43ad-4788-881c-0c2aaa796da8\":{\"roots\":{\"references\":[{\"attributes\":{\"below\":[{\"id\":\"8126\",\"type\":\"CategoricalAxis\"}],\"left\":[{\"id\":\"8130\",\"type\":\"LinearAxis\"}],\"plot_height\":350,\"renderers\":[{\"id\":\"8126\",\"type\":\"CategoricalAxis\"},{\"id\":\"8129\",\"type\":\"Grid\"},{\"id\":\"8130\",\"type\":\"LinearAxis\"},{\"id\":\"8134\",\"type\":\"Grid\"},{\"id\":\"8139\",\"type\":\"GlyphRenderer\"},{\"id\":\"8142\",\"type\":\"Whisker\"}],\"title\":{\"id\":\"8115\",\"type\":\"Title\"},\"toolbar\":{\"id\":\"8135\",\"type\":\"Toolbar\"},\"toolbar_location\":null,\"x_range\":{\"id\":\"8118\",\"type\":\"FactorRange\"},\"x_scale\":{\"id\":\"8122\",\"type\":\"CategoricalScale\"},\"y_range\":{\"id\":\"8144\",\"type\":\"Range1d\"},\"y_scale\":{\"id\":\"8124\",\"type\":\"LinearScale\"}},\"id\":\"8116\",\"subtype\":\"Figure\",\"type\":\"Plot\"},{\"attributes\":{},\"id\":\"8445\",\"type\":\"BasicTickFormatter\"},{\"attributes\":{},\"id\":\"8122\",\"type\":\"CategoricalScale\"},{\"attributes\":{\"level\":\"underlay\",\"plot\":null,\"size\":10},\"id\":\"8447\",\"type\":\"TeeHead\"},{\"attributes\":{},\"id\":\"8124\",\"type\":\"LinearScale\"},{\"attributes\":{\"level\":\"underlay\",\"plot\":null,\"size\":10},\"id\":\"8448\",\"type\":\"TeeHead\"},{\"attributes\":{\"formatter\":{\"id\":\"8443\",\"type\":\"CategoricalTickFormatter\"},\"major_label_orientation\":0.7853981633974483,\"plot\":{\"id\":\"8116\",\"subtype\":\"Figure\",\"type\":\"Plot\"},\"ticker\":{\"id\":\"8127\",\"type\":\"CategoricalTicker\"}},\"id\":\"8126\",\"type\":\"CategoricalAxis\"},{\"attributes\":{},\"id\":\"8449\",\"type\":\"UnionRenderers\"},{\"attributes\":{},\"id\":\"8127\",\"type\":\"CategoricalTicker\"},{\"attributes\":{\"plot\":null,\"text\":\"Percent of time spent putting models into production\"},\"id\":\"8115\",\"type\":\"Title\"},{\"attributes\":{},\"id\":\"8450\",\"type\":\"Selection\"},{\"attributes\":{\"plot\":{\"id\":\"8116\",\"subtype\":\"Figure\",\"type\":\"Plot\"},\"ticker\":{\"id\":\"8127\",\"type\":\"CategoricalTicker\"}},\"id\":\"8129\",\"type\":\"Grid\"},{\"attributes\":{},\"id\":\"8451\",\"type\":\"UnionRenderers\"},{\"attributes\":{\"formatter\":{\"id\":\"8445\",\"type\":\"BasicTickFormatter\"},\"plot\":{\"id\":\"8116\",\"subtype\":\"Figure\",\"type\":\"Plot\"},\"ticker\":{\"id\":\"8131\",\"type\":\"BasicTicker\"}},\"id\":\"8130\",\"type\":\"LinearAxis\"},{\"attributes\":{\"callback\":null,\"data\":{\"x\":[\"Data scientist\",\"Software engineer\",\"Data analyst\",\"Research scientist\",\"Research assistant\",\"Consultant\",\"Data Engineer\",\"Business Analyst\",\"Manager\"],\"y\":[7.82,7.052,4.865,5.453,5.555,4.196,8.268,4.378,5.678]},\"selected\":{\"id\":\"8450\",\"type\":\"Selection\"},\"selection_policy\":{\"id\":\"8449\",\"type\":\"UnionRenderers\"}},\"id\":\"8136\",\"type\":\"ColumnDataSource\"},{\"attributes\":{},\"id\":\"8452\",\"type\":\"Selection\"},{\"attributes\":{},\"id\":\"8131\",\"type\":\"BasicTicker\"},{\"attributes\":{\"callback\":null,\"factors\":[\"Data scientist\",\"Software engineer\",\"Data analyst\",\"Research scientist\",\"Research assistant\",\"Consultant\",\"Data Engineer\",\"Business Analyst\",\"Manager\"]},\"id\":\"8118\",\"type\":\"FactorRange\"},{\"attributes\":{\"dimension\":1,\"plot\":{\"id\":\"8116\",\"subtype\":\"Figure\",\"type\":\"Plot\"},\"ticker\":{\"id\":\"8131\",\"type\":\"BasicTicker\"}},\"id\":\"8134\",\"type\":\"Grid\"},{\"attributes\":{\"active_drag\":\"auto\",\"active_inspect\":\"auto\",\"active_multi\":null,\"active_scroll\":\"auto\",\"active_tap\":\"auto\"},\"id\":\"8135\",\"type\":\"Toolbar\"},{\"attributes\":{\"fill_color\":{\"value\":\"#1f77b4\"},\"line_color\":{\"value\":\"#1f77b4\"},\"radius\":{\"units\":\"data\",\"value\":0.07},\"x\":{\"field\":\"x\"},\"y\":{\"field\":\"y\"}},\"id\":\"8137\",\"type\":\"Circle\"},{\"attributes\":{\"fill_alpha\":{\"value\":0.1},\"fill_color\":{\"value\":\"#1f77b4\"},\"line_alpha\":{\"value\":0.1},\"line_color\":{\"value\":\"#1f77b4\"},\"radius\":{\"units\":\"data\",\"value\":0.07},\"x\":{\"field\":\"x\"},\"y\":{\"field\":\"y\"}},\"id\":\"8138\",\"type\":\"Circle\"},{\"attributes\":{\"data_source\":{\"id\":\"8136\",\"type\":\"ColumnDataSource\"},\"glyph\":{\"id\":\"8137\",\"type\":\"Circle\"},\"hover_glyph\":null,\"muted_glyph\":null,\"nonselection_glyph\":{\"id\":\"8138\",\"type\":\"Circle\"},\"selection_glyph\":null,\"view\":{\"id\":\"8140\",\"type\":\"CDSView\"}},\"id\":\"8139\",\"type\":\"GlyphRenderer\"},{\"attributes\":{\"source\":{\"id\":\"8136\",\"type\":\"ColumnDataSource\"}},\"id\":\"8140\",\"type\":\"CDSView\"},{\"attributes\":{\"callback\":null,\"data\":{\"base\":[\"Data scientist\",\"Software engineer\",\"Data analyst\",\"Research scientist\",\"Research assistant\",\"Consultant\",\"Data Engineer\",\"Business Analyst\",\"Manager\"],\"lower\":[7.4282,6.6347,4.442,4.9009,4.8847,3.6224999999999996,7.705400000000001,3.8251,5.0626],\"upper\":[8.2118,7.4693,5.288,6.0051000000000005,6.2253,4.7695,8.8306,4.9309,6.2934]},\"selected\":{\"id\":\"8452\",\"type\":\"Selection\"},\"selection_policy\":{\"id\":\"8451\",\"type\":\"UnionRenderers\"}},\"id\":\"8141\",\"type\":\"ColumnDataSource\"},{\"attributes\":{\"base\":{\"field\":\"base\",\"units\":\"data\"},\"lower\":{\"field\":\"lower\",\"units\":\"data\"},\"lower_head\":{\"id\":\"8447\",\"type\":\"TeeHead\"},\"plot\":{\"id\":\"8116\",\"subtype\":\"Figure\",\"type\":\"Plot\"},\"source\":{\"id\":\"8141\",\"type\":\"ColumnDataSource\"},\"upper\":{\"field\":\"upper\",\"units\":\"data\"},\"upper_head\":{\"id\":\"8448\",\"type\":\"TeeHead\"}},\"id\":\"8142\",\"type\":\"Whisker\"},{\"attributes\":{},\"id\":\"8443\",\"type\":\"CategoricalTickFormatter\"},{\"attributes\":{\"callback\":null,\"end\":9.3306,\"start\":3.1224999999999996},\"id\":\"8144\",\"type\":\"Range1d\"}],\"root_ids\":[\"8116\"]},\"title\":\"Bokeh Application\",\"version\":\"1.0.4\"}};\n",
       "  var render_items = [{\"docid\":\"a8afcbef-43ad-4788-881c-0c2aaa796da8\",\"roots\":{\"8116\":\"e98f0806-6edb-479d-96b2-33e93bfeac21\"}}];\n",
       "  root.Bokeh.embed.embed_items_notebook(docs_json, render_items);\n",
       "\n",
       "  }\n",
       "  if (root.Bokeh !== undefined) {\n",
       "    embed_document(root);\n",
       "  } else {\n",
       "    var attempts = 0;\n",
       "    var timer = setInterval(function(root) {\n",
       "      if (root.Bokeh !== undefined) {\n",
       "        embed_document(root);\n",
       "        clearInterval(timer);\n",
       "      }\n",
       "      attempts++;\n",
       "      if (attempts > 100) {\n",
       "        console.log(\"Bokeh: ERROR: Unable to run BokehJS code because BokehJS library is missing\");\n",
       "        clearInterval(timer);\n",
       "      }\n",
       "    }, 10, root)\n",
       "  }\n",
       "})(window);"
      ],
      "application/vnd.bokehjs_exec.v0+json": ""
     },
     "metadata": {
      "application/vnd.bokehjs_exec.v0+json": {
       "id": "8116"
      }
     },
     "output_type": "display_data"
    }
   ],
   "source": [
    "# model production plot\n",
    "model_prod_coef = [7.820, 7.052, 4.865, 5.453, 5.555, 4.196, 8.268, 4.378, 5.678]\n",
    "model_prod_error = [.3918, .4173, .4230, .5521, .6703, .5735, .5626, .5529, .6154]\n",
    "model_prod_plot = whisker_plot(\"putting models into production\", model_prod_coef, model_prod_error)\n",
    "show(model_prod_plot)"
   ]
  },
  {
   "cell_type": "code",
   "execution_count": 53,
   "metadata": {},
   "outputs": [
    {
     "data": {
      "text/html": [
       "\n",
       "\n",
       "\n",
       "\n",
       "\n",
       "\n",
       "  <div class=\"bk-root\" id=\"d475c423-9b96-475c-bafe-9321b5d0b84c\" data-root-id=\"8520\"></div>\n"
      ]
     },
     "metadata": {},
     "output_type": "display_data"
    },
    {
     "data": {
      "application/javascript": [
       "(function(root) {\n",
       "  function embed_document(root) {\n",
       "    \n",
       "  var docs_json = {\"92f238a3-3a34-4b13-a107-63cf687d4bd8\":{\"roots\":{\"references\":[{\"attributes\":{\"below\":[{\"id\":\"8530\",\"type\":\"CategoricalAxis\"}],\"left\":[{\"id\":\"8534\",\"type\":\"LinearAxis\"}],\"plot_height\":350,\"renderers\":[{\"id\":\"8530\",\"type\":\"CategoricalAxis\"},{\"id\":\"8533\",\"type\":\"Grid\"},{\"id\":\"8534\",\"type\":\"LinearAxis\"},{\"id\":\"8538\",\"type\":\"Grid\"},{\"id\":\"8543\",\"type\":\"GlyphRenderer\"},{\"id\":\"8546\",\"type\":\"Whisker\"}],\"title\":{\"id\":\"8519\",\"type\":\"Title\"},\"toolbar\":{\"id\":\"8539\",\"type\":\"Toolbar\"},\"toolbar_location\":null,\"x_range\":{\"id\":\"8522\",\"type\":\"FactorRange\"},\"x_scale\":{\"id\":\"8526\",\"type\":\"CategoricalScale\"},\"y_range\":{\"id\":\"8548\",\"type\":\"Range1d\"},\"y_scale\":{\"id\":\"8528\",\"type\":\"LinearScale\"}},\"id\":\"8520\",\"subtype\":\"Figure\",\"type\":\"Plot\"},{\"attributes\":{},\"id\":\"8867\",\"type\":\"Selection\"},{\"attributes\":{},\"id\":\"8535\",\"type\":\"BasicTicker\"},{\"attributes\":{\"dimension\":1,\"plot\":{\"id\":\"8520\",\"subtype\":\"Figure\",\"type\":\"Plot\"},\"ticker\":{\"id\":\"8535\",\"type\":\"BasicTicker\"}},\"id\":\"8538\",\"type\":\"Grid\"},{\"attributes\":{\"active_drag\":\"auto\",\"active_inspect\":\"auto\",\"active_multi\":null,\"active_scroll\":\"auto\",\"active_tap\":\"auto\"},\"id\":\"8539\",\"type\":\"Toolbar\"},{\"attributes\":{\"fill_color\":{\"value\":\"#1f77b4\"},\"line_color\":{\"value\":\"#1f77b4\"},\"radius\":{\"units\":\"data\",\"value\":0.07},\"x\":{\"field\":\"x\"},\"y\":{\"field\":\"y\"}},\"id\":\"8541\",\"type\":\"Circle\"},{\"attributes\":{\"fill_alpha\":{\"value\":0.1},\"fill_color\":{\"value\":\"#1f77b4\"},\"line_alpha\":{\"value\":0.1},\"line_color\":{\"value\":\"#1f77b4\"},\"radius\":{\"units\":\"data\",\"value\":0.07},\"x\":{\"field\":\"x\"},\"y\":{\"field\":\"y\"}},\"id\":\"8542\",\"type\":\"Circle\"},{\"attributes\":{\"data_source\":{\"id\":\"8540\",\"type\":\"ColumnDataSource\"},\"glyph\":{\"id\":\"8541\",\"type\":\"Circle\"},\"hover_glyph\":null,\"muted_glyph\":null,\"nonselection_glyph\":{\"id\":\"8542\",\"type\":\"Circle\"},\"selection_glyph\":null,\"view\":{\"id\":\"8544\",\"type\":\"CDSView\"}},\"id\":\"8543\",\"type\":\"GlyphRenderer\"},{\"attributes\":{\"source\":{\"id\":\"8540\",\"type\":\"ColumnDataSource\"}},\"id\":\"8544\",\"type\":\"CDSView\"},{\"attributes\":{\"callback\":null,\"data\":{\"base\":[\"Data scientist\",\"Software engineer\",\"Data analyst\",\"Research scientist\",\"Research assistant\",\"Consultant\",\"Data Engineer\",\"Business Analyst\",\"Manager\"],\"lower\":[12.2546,9.308,13.9283,10.1782,8.6509,12.523299999999999,9.406,14.1873,12.9231],\"upper\":[13.165400000000002,10.277999999999999,14.9117,11.4618,10.2091,13.8567,10.714,15.4727,14.376900000000001]},\"selected\":{\"id\":\"8867\",\"type\":\"Selection\"},\"selection_policy\":{\"id\":\"8866\",\"type\":\"UnionRenderers\"}},\"id\":\"8545\",\"type\":\"ColumnDataSource\"},{\"attributes\":{\"base\":{\"field\":\"base\",\"units\":\"data\"},\"lower\":{\"field\":\"lower\",\"units\":\"data\"},\"lower_head\":{\"id\":\"8862\",\"type\":\"TeeHead\"},\"plot\":{\"id\":\"8520\",\"subtype\":\"Figure\",\"type\":\"Plot\"},\"source\":{\"id\":\"8545\",\"type\":\"ColumnDataSource\"},\"upper\":{\"field\":\"upper\",\"units\":\"data\"},\"upper_head\":{\"id\":\"8863\",\"type\":\"TeeHead\"}},\"id\":\"8546\",\"type\":\"Whisker\"},{\"attributes\":{\"plot\":null,\"text\":\"Percent of time spent communicating insights\"},\"id\":\"8519\",\"type\":\"Title\"},{\"attributes\":{\"plot\":{\"id\":\"8520\",\"subtype\":\"Figure\",\"type\":\"Plot\"},\"ticker\":{\"id\":\"8531\",\"type\":\"CategoricalTicker\"}},\"id\":\"8533\",\"type\":\"Grid\"},{\"attributes\":{\"callback\":null,\"end\":15.9727,\"start\":8.1509},\"id\":\"8548\",\"type\":\"Range1d\"},{\"attributes\":{},\"id\":\"8866\",\"type\":\"UnionRenderers\"},{\"attributes\":{\"callback\":null,\"factors\":[\"Data scientist\",\"Software engineer\",\"Data analyst\",\"Research scientist\",\"Research assistant\",\"Consultant\",\"Data Engineer\",\"Business Analyst\",\"Manager\"]},\"id\":\"8522\",\"type\":\"FactorRange\"},{\"attributes\":{},\"id\":\"8860\",\"type\":\"BasicTickFormatter\"},{\"attributes\":{\"callback\":null,\"data\":{\"x\":[\"Data scientist\",\"Software engineer\",\"Data analyst\",\"Research scientist\",\"Research assistant\",\"Consultant\",\"Data Engineer\",\"Business Analyst\",\"Manager\"],\"y\":[12.71,9.793,14.42,10.82,9.43,13.19,10.06,14.83,13.65]},\"selected\":{\"id\":\"8865\",\"type\":\"Selection\"},\"selection_policy\":{\"id\":\"8864\",\"type\":\"UnionRenderers\"}},\"id\":\"8540\",\"type\":\"ColumnDataSource\"},{\"attributes\":{\"level\":\"underlay\",\"plot\":null,\"size\":10},\"id\":\"8862\",\"type\":\"TeeHead\"},{\"attributes\":{},\"id\":\"8531\",\"type\":\"CategoricalTicker\"},{\"attributes\":{},\"id\":\"8858\",\"type\":\"CategoricalTickFormatter\"},{\"attributes\":{\"level\":\"underlay\",\"plot\":null,\"size\":10},\"id\":\"8863\",\"type\":\"TeeHead\"},{\"attributes\":{},\"id\":\"8864\",\"type\":\"UnionRenderers\"},{\"attributes\":{\"formatter\":{\"id\":\"8858\",\"type\":\"CategoricalTickFormatter\"},\"major_label_orientation\":0.7853981633974483,\"plot\":{\"id\":\"8520\",\"subtype\":\"Figure\",\"type\":\"Plot\"},\"ticker\":{\"id\":\"8531\",\"type\":\"CategoricalTicker\"}},\"id\":\"8530\",\"type\":\"CategoricalAxis\"},{\"attributes\":{},\"id\":\"8865\",\"type\":\"Selection\"},{\"attributes\":{},\"id\":\"8526\",\"type\":\"CategoricalScale\"},{\"attributes\":{\"formatter\":{\"id\":\"8860\",\"type\":\"BasicTickFormatter\"},\"plot\":{\"id\":\"8520\",\"subtype\":\"Figure\",\"type\":\"Plot\"},\"ticker\":{\"id\":\"8535\",\"type\":\"BasicTicker\"}},\"id\":\"8534\",\"type\":\"LinearAxis\"},{\"attributes\":{},\"id\":\"8528\",\"type\":\"LinearScale\"}],\"root_ids\":[\"8520\"]},\"title\":\"Bokeh Application\",\"version\":\"1.0.4\"}};\n",
       "  var render_items = [{\"docid\":\"92f238a3-3a34-4b13-a107-63cf687d4bd8\",\"roots\":{\"8520\":\"d475c423-9b96-475c-bafe-9321b5d0b84c\"}}];\n",
       "  root.Bokeh.embed.embed_items_notebook(docs_json, render_items);\n",
       "\n",
       "  }\n",
       "  if (root.Bokeh !== undefined) {\n",
       "    embed_document(root);\n",
       "  } else {\n",
       "    var attempts = 0;\n",
       "    var timer = setInterval(function(root) {\n",
       "      if (root.Bokeh !== undefined) {\n",
       "        embed_document(root);\n",
       "        clearInterval(timer);\n",
       "      }\n",
       "      attempts++;\n",
       "      if (attempts > 100) {\n",
       "        console.log(\"Bokeh: ERROR: Unable to run BokehJS code because BokehJS library is missing\");\n",
       "        clearInterval(timer);\n",
       "      }\n",
       "    }, 10, root)\n",
       "  }\n",
       "})(window);"
      ],
      "application/vnd.bokehjs_exec.v0+json": ""
     },
     "metadata": {
      "application/vnd.bokehjs_exec.v0+json": {
       "id": "8520"
      }
     },
     "output_type": "display_data"
    }
   ],
   "source": [
    "# communicating insights plot\n",
    "comm_in_coef = [12.71, 9.793, 14.42, 10.82, 9.43, 13.19, 10.06, 14.83, 13.65]\n",
    "comm_in_error = [.4554, .4850, .4917, .6418, .7791, .6667, .6540, .6427, .7269]\n",
    "comm_in_plot = whisker_plot(\"communicating insights\", comm_in_coef, comm_in_error)\n",
    "show(comm_in_plot)"
   ]
  },
  {
   "cell_type": "code",
   "execution_count": 73,
   "metadata": {},
   "outputs": [
    {
     "data": {
      "text/html": [
       "\n",
       "\n",
       "\n",
       "\n",
       "\n",
       "\n",
       "  <div class=\"bk-root\" id=\"f550fd96-7382-4eae-a11b-497e9083ea61\" data-root-id=\"15274\"></div>\n"
      ]
     },
     "metadata": {},
     "output_type": "display_data"
    },
    {
     "data": {
      "application/javascript": [
       "(function(root) {\n",
       "  function embed_document(root) {\n",
       "    \n",
       "  var docs_json = {\"bba4d86d-128e-45db-abbd-1303d68d4f0c\":{\"roots\":{\"references\":[{\"attributes\":{\"below\":[{\"id\":\"15284\",\"type\":\"CategoricalAxis\"}],\"left\":[{\"id\":\"15288\",\"type\":\"LinearAxis\"}],\"plot_height\":350,\"renderers\":[{\"id\":\"15284\",\"type\":\"CategoricalAxis\"},{\"id\":\"15287\",\"type\":\"Grid\"},{\"id\":\"15288\",\"type\":\"LinearAxis\"},{\"id\":\"15292\",\"type\":\"Grid\"},{\"id\":\"15297\",\"type\":\"GlyphRenderer\"},{\"id\":\"15300\",\"type\":\"Whisker\"}],\"title\":{\"id\":\"15273\",\"type\":\"Title\"},\"toolbar\":{\"id\":\"15293\",\"type\":\"Toolbar\"},\"toolbar_location\":null,\"x_range\":{\"id\":\"15276\",\"type\":\"FactorRange\"},\"x_scale\":{\"id\":\"15280\",\"type\":\"CategoricalScale\"},\"y_range\":{\"id\":\"15302\",\"type\":\"Range1d\"},\"y_scale\":{\"id\":\"15282\",\"type\":\"LinearScale\"}},\"id\":\"15274\",\"subtype\":\"Figure\",\"type\":\"Plot\"},{\"attributes\":{\"base\":{\"field\":\"base\",\"units\":\"data\"},\"lower\":{\"field\":\"lower\",\"units\":\"data\"},\"lower_head\":{\"id\":\"15760\",\"type\":\"TeeHead\"},\"plot\":{\"id\":\"15274\",\"subtype\":\"Figure\",\"type\":\"Plot\"},\"source\":{\"id\":\"15299\",\"type\":\"ColumnDataSource\"},\"upper\":{\"field\":\"upper\",\"units\":\"data\"},\"upper_head\":{\"id\":\"15761\",\"type\":\"TeeHead\"}},\"id\":\"15300\",\"type\":\"Whisker\"},{\"attributes\":{},\"id\":\"15289\",\"type\":\"BasicTicker\"},{\"attributes\":{\"formatter\":{\"id\":\"15303\",\"type\":\"NumeralTickFormatter\"},\"plot\":{\"id\":\"15274\",\"subtype\":\"Figure\",\"type\":\"Plot\"},\"ticker\":{\"id\":\"15289\",\"type\":\"BasicTicker\"}},\"id\":\"15288\",\"type\":\"LinearAxis\"},{\"attributes\":{\"source\":{\"id\":\"15294\",\"type\":\"ColumnDataSource\"}},\"id\":\"15298\",\"type\":\"CDSView\"},{\"attributes\":{},\"id\":\"15762\",\"type\":\"UnionRenderers\"},{\"attributes\":{\"data_source\":{\"id\":\"15294\",\"type\":\"ColumnDataSource\"},\"glyph\":{\"id\":\"15295\",\"type\":\"Circle\"},\"hover_glyph\":null,\"muted_glyph\":null,\"nonselection_glyph\":{\"id\":\"15296\",\"type\":\"Circle\"},\"selection_glyph\":null,\"view\":{\"id\":\"15298\",\"type\":\"CDSView\"}},\"id\":\"15297\",\"type\":\"GlyphRenderer\"},{\"attributes\":{\"plot\":{\"id\":\"15274\",\"subtype\":\"Figure\",\"type\":\"Plot\"},\"ticker\":{\"id\":\"15285\",\"type\":\"CategoricalTicker\"}},\"id\":\"15287\",\"type\":\"Grid\"},{\"attributes\":{\"fill_color\":{\"value\":\"#1f77b4\"},\"line_color\":{\"value\":\"#1f77b4\"},\"radius\":{\"units\":\"data\",\"value\":0.07},\"x\":{\"field\":\"x\"},\"y\":{\"field\":\"y\"}},\"id\":\"15295\",\"type\":\"Circle\"},{\"attributes\":{\"dimension\":1,\"plot\":{\"id\":\"15274\",\"subtype\":\"Figure\",\"type\":\"Plot\"},\"ticker\":{\"id\":\"15289\",\"type\":\"BasicTicker\"}},\"id\":\"15292\",\"type\":\"Grid\"},{\"attributes\":{\"level\":\"underlay\",\"plot\":null,\"size\":10},\"id\":\"15760\",\"type\":\"TeeHead\"},{\"attributes\":{},\"id\":\"15282\",\"type\":\"LinearScale\"},{\"attributes\":{\"fill_alpha\":{\"value\":0.1},\"fill_color\":{\"value\":\"#1f77b4\"},\"line_alpha\":{\"value\":0.1},\"line_color\":{\"value\":\"#1f77b4\"},\"radius\":{\"units\":\"data\",\"value\":0.07},\"x\":{\"field\":\"x\"},\"y\":{\"field\":\"y\"}},\"id\":\"15296\",\"type\":\"Circle\"},{\"attributes\":{\"level\":\"underlay\",\"plot\":null,\"size\":10},\"id\":\"15761\",\"type\":\"TeeHead\"},{\"attributes\":{\"formatter\":{\"id\":\"15757\",\"type\":\"CategoricalTickFormatter\"},\"major_label_orientation\":0.7853981633974483,\"plot\":{\"id\":\"15274\",\"subtype\":\"Figure\",\"type\":\"Plot\"},\"ticker\":{\"id\":\"15285\",\"type\":\"CategoricalTicker\"}},\"id\":\"15284\",\"type\":\"CategoricalAxis\"},{\"attributes\":{\"plot\":null,\"text\":\"Average salary\"},\"id\":\"15273\",\"type\":\"Title\"},{\"attributes\":{},\"id\":\"15285\",\"type\":\"CategoricalTicker\"},{\"attributes\":{\"active_drag\":\"auto\",\"active_inspect\":\"auto\",\"active_multi\":null,\"active_scroll\":\"auto\",\"active_tap\":\"auto\"},\"id\":\"15293\",\"type\":\"Toolbar\"},{\"attributes\":{\"callback\":null,\"factors\":[\"Data scientist\",\"Software engineer\",\"Data analyst\",\"Research scientist\",\"Research assistant\",\"Consultant\",\"Data Engineer\",\"Business Analyst\",\"Manager\"]},\"id\":\"15276\",\"type\":\"FactorRange\"},{\"attributes\":{},\"id\":\"15763\",\"type\":\"Selection\"},{\"attributes\":{\"format\":\"$0,0.00\"},\"id\":\"15303\",\"type\":\"NumeralTickFormatter\"},{\"attributes\":{},\"id\":\"15280\",\"type\":\"CategoricalScale\"},{\"attributes\":{\"callback\":null,\"data\":{\"base\":[\"Data scientist\",\"Software engineer\",\"Data analyst\",\"Research scientist\",\"Research assistant\",\"Consultant\",\"Data Engineer\",\"Business Analyst\",\"Manager\"],\"lower\":[98728.90999999999,86906.51000000001,64295.83000000001,68516.27,35787.64,80623.98000000001,82826.65999999999,65157.20999999999,113101.49],\"upper\":[111364.11,99820.15,77733.81000000001,84157.51,54467.16,96745.0,99491.42,80790.15,130052.23]},\"selected\":{\"id\":\"15765\",\"type\":\"Selection\"},\"selection_policy\":{\"id\":\"15764\",\"type\":\"UnionRenderers\"}},\"id\":\"15299\",\"type\":\"ColumnDataSource\"},{\"attributes\":{},\"id\":\"15757\",\"type\":\"CategoricalTickFormatter\"},{\"attributes\":{},\"id\":\"15764\",\"type\":\"UnionRenderers\"},{\"attributes\":{\"callback\":null,\"end\":131052.23,\"start\":34787.64},\"id\":\"15302\",\"type\":\"Range1d\"},{\"attributes\":{},\"id\":\"15765\",\"type\":\"Selection\"},{\"attributes\":{\"callback\":null,\"data\":{\"x\":[\"Data scientist\",\"Software engineer\",\"Data analyst\",\"Research scientist\",\"Research assistant\",\"Consultant\",\"Data Engineer\",\"Business Analyst\",\"Manager\"],\"y\":[105046.51,93363.33,71014.82,76336.89,45127.4,88684.49,91159.04,72973.68,121576.86]},\"selected\":{\"id\":\"15763\",\"type\":\"Selection\"},\"selection_policy\":{\"id\":\"15762\",\"type\":\"UnionRenderers\"}},\"id\":\"15294\",\"type\":\"ColumnDataSource\"}],\"root_ids\":[\"15274\"]},\"title\":\"Bokeh Application\",\"version\":\"1.0.4\"}};\n",
       "  var render_items = [{\"docid\":\"bba4d86d-128e-45db-abbd-1303d68d4f0c\",\"roots\":{\"15274\":\"f550fd96-7382-4eae-a11b-497e9083ea61\"}}];\n",
       "  root.Bokeh.embed.embed_items_notebook(docs_json, render_items);\n",
       "\n",
       "  }\n",
       "  if (root.Bokeh !== undefined) {\n",
       "    embed_document(root);\n",
       "  } else {\n",
       "    var attempts = 0;\n",
       "    var timer = setInterval(function(root) {\n",
       "      if (root.Bokeh !== undefined) {\n",
       "        embed_document(root);\n",
       "        clearInterval(timer);\n",
       "      }\n",
       "      attempts++;\n",
       "      if (attempts > 100) {\n",
       "        console.log(\"Bokeh: ERROR: Unable to run BokehJS code because BokehJS library is missing\");\n",
       "        clearInterval(timer);\n",
       "      }\n",
       "    }, 10, root)\n",
       "  }\n",
       "})(window);"
      ],
      "application/vnd.bokehjs_exec.v0+json": ""
     },
     "metadata": {
      "application/vnd.bokehjs_exec.v0+json": {
       "id": "15274"
      }
     },
     "output_type": "display_data"
    }
   ],
   "source": [
    "# average salary plot\n",
    "salary_coef = [105046.51, 93363.33, 71014.82, 76336.89, 45127.40, 88684.49, 91159.04, 72973.68, 121576.86]\n",
    "salary_error = [6317.60, 6456.82, 6718.99, 7820.62, 9339.76, 8060.51, 8332.38, 7816.47, 8475.37]\n",
    "\n",
    "jobs = [\"Data scientist\", \"Software engineer\", \"Data analyst\", \"Research scientist\",\n",
    "    \"Research assistant\", \"Consultant\", \"Data Engineer\", \"Business Analyst\", \"Manager\"]\n",
    "\n",
    "salary_plot = figure(x_range=jobs, plot_height=350, title=\"Average salary\",\n",
    "           toolbar_location=None, tools=\"\")\n",
    "salary_plot.scatter(x=jobs, y=salary_coef, radius=0.07)\n",
    "\n",
    "lower = [c - salary_error[i] for i, c in enumerate(salary_coef)]\n",
    "upper = [c + salary_error[i] for i, c in enumerate(salary_coef)]\n",
    "source_error = ColumnDataSource(data=dict(base=jobs, lower=lower, upper=upper))\n",
    "salary_plot.add_layout(\n",
    "    Whisker(source=source_error, base=\"base\", upper=\"upper\", lower=\"lower\")\n",
    ")\n",
    "salary_plot.xaxis.major_label_orientation = math.pi/4\n",
    "salary_plot.y_range = Range1d(min(lower)-1000, max(upper)+1000)\n",
    "salary_plot.axis[1].formatter = NumeralTickFormatter(format=\"$0,0.00\")\n",
    "\n",
    "show(salary_plot)"
   ]
  },
  {
   "cell_type": "code",
   "execution_count": null,
   "metadata": {},
   "outputs": [],
   "source": []
  }
 ],
 "metadata": {
  "kernelspec": {
   "display_name": "py36",
   "language": "python",
   "name": "py36"
  },
  "language_info": {
   "codemirror_mode": {
    "name": "ipython",
    "version": 3
   },
   "file_extension": ".py",
   "mimetype": "text/x-python",
   "name": "python",
   "nbconvert_exporter": "python",
   "pygments_lexer": "ipython3",
   "version": "3.6.7"
  }
 },
 "nbformat": 4,
 "nbformat_minor": 2
}
