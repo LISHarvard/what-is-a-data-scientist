{
 "cells": [
  {
   "cell_type": "code",
   "execution_count": 1,
   "metadata": {},
   "outputs": [
    {
     "data": {
      "text/html": [
       "\n",
       "    <div class=\"bk-root\">\n",
       "        <a href=\"https://bokeh.pydata.org\" target=\"_blank\" class=\"bk-logo bk-logo-small bk-logo-notebook\"></a>\n",
       "        <span id=\"1001\">Loading BokehJS ...</span>\n",
       "    </div>"
      ]
     },
     "metadata": {},
     "output_type": "display_data"
    },
    {
     "data": {
      "application/javascript": [
       "\n",
       "(function(root) {\n",
       "  function now() {\n",
       "    return new Date();\n",
       "  }\n",
       "\n",
       "  var force = true;\n",
       "\n",
       "  if (typeof (root._bokeh_onload_callbacks) === \"undefined\" || force === true) {\n",
       "    root._bokeh_onload_callbacks = [];\n",
       "    root._bokeh_is_loading = undefined;\n",
       "  }\n",
       "\n",
       "  var JS_MIME_TYPE = 'application/javascript';\n",
       "  var HTML_MIME_TYPE = 'text/html';\n",
       "  var EXEC_MIME_TYPE = 'application/vnd.bokehjs_exec.v0+json';\n",
       "  var CLASS_NAME = 'output_bokeh rendered_html';\n",
       "\n",
       "  /**\n",
       "   * Render data to the DOM node\n",
       "   */\n",
       "  function render(props, node) {\n",
       "    var script = document.createElement(\"script\");\n",
       "    node.appendChild(script);\n",
       "  }\n",
       "\n",
       "  /**\n",
       "   * Handle when an output is cleared or removed\n",
       "   */\n",
       "  function handleClearOutput(event, handle) {\n",
       "    var cell = handle.cell;\n",
       "\n",
       "    var id = cell.output_area._bokeh_element_id;\n",
       "    var server_id = cell.output_area._bokeh_server_id;\n",
       "    // Clean up Bokeh references\n",
       "    if (id != null && id in Bokeh.index) {\n",
       "      Bokeh.index[id].model.document.clear();\n",
       "      delete Bokeh.index[id];\n",
       "    }\n",
       "\n",
       "    if (server_id !== undefined) {\n",
       "      // Clean up Bokeh references\n",
       "      var cmd = \"from bokeh.io.state import curstate; print(curstate().uuid_to_server['\" + server_id + \"'].get_sessions()[0].document.roots[0]._id)\";\n",
       "      cell.notebook.kernel.execute(cmd, {\n",
       "        iopub: {\n",
       "          output: function(msg) {\n",
       "            var id = msg.content.text.trim();\n",
       "            if (id in Bokeh.index) {\n",
       "              Bokeh.index[id].model.document.clear();\n",
       "              delete Bokeh.index[id];\n",
       "            }\n",
       "          }\n",
       "        }\n",
       "      });\n",
       "      // Destroy server and session\n",
       "      var cmd = \"import bokeh.io.notebook as ion; ion.destroy_server('\" + server_id + \"')\";\n",
       "      cell.notebook.kernel.execute(cmd);\n",
       "    }\n",
       "  }\n",
       "\n",
       "  /**\n",
       "   * Handle when a new output is added\n",
       "   */\n",
       "  function handleAddOutput(event, handle) {\n",
       "    var output_area = handle.output_area;\n",
       "    var output = handle.output;\n",
       "\n",
       "    // limit handleAddOutput to display_data with EXEC_MIME_TYPE content only\n",
       "    if ((output.output_type != \"display_data\") || (!output.data.hasOwnProperty(EXEC_MIME_TYPE))) {\n",
       "      return\n",
       "    }\n",
       "\n",
       "    var toinsert = output_area.element.find(\".\" + CLASS_NAME.split(' ')[0]);\n",
       "\n",
       "    if (output.metadata[EXEC_MIME_TYPE][\"id\"] !== undefined) {\n",
       "      toinsert[toinsert.length - 1].firstChild.textContent = output.data[JS_MIME_TYPE];\n",
       "      // store reference to embed id on output_area\n",
       "      output_area._bokeh_element_id = output.metadata[EXEC_MIME_TYPE][\"id\"];\n",
       "    }\n",
       "    if (output.metadata[EXEC_MIME_TYPE][\"server_id\"] !== undefined) {\n",
       "      var bk_div = document.createElement(\"div\");\n",
       "      bk_div.innerHTML = output.data[HTML_MIME_TYPE];\n",
       "      var script_attrs = bk_div.children[0].attributes;\n",
       "      for (var i = 0; i < script_attrs.length; i++) {\n",
       "        toinsert[toinsert.length - 1].firstChild.setAttribute(script_attrs[i].name, script_attrs[i].value);\n",
       "      }\n",
       "      // store reference to server id on output_area\n",
       "      output_area._bokeh_server_id = output.metadata[EXEC_MIME_TYPE][\"server_id\"];\n",
       "    }\n",
       "  }\n",
       "\n",
       "  function register_renderer(events, OutputArea) {\n",
       "\n",
       "    function append_mime(data, metadata, element) {\n",
       "      // create a DOM node to render to\n",
       "      var toinsert = this.create_output_subarea(\n",
       "        metadata,\n",
       "        CLASS_NAME,\n",
       "        EXEC_MIME_TYPE\n",
       "      );\n",
       "      this.keyboard_manager.register_events(toinsert);\n",
       "      // Render to node\n",
       "      var props = {data: data, metadata: metadata[EXEC_MIME_TYPE]};\n",
       "      render(props, toinsert[toinsert.length - 1]);\n",
       "      element.append(toinsert);\n",
       "      return toinsert\n",
       "    }\n",
       "\n",
       "    /* Handle when an output is cleared or removed */\n",
       "    events.on('clear_output.CodeCell', handleClearOutput);\n",
       "    events.on('delete.Cell', handleClearOutput);\n",
       "\n",
       "    /* Handle when a new output is added */\n",
       "    events.on('output_added.OutputArea', handleAddOutput);\n",
       "\n",
       "    /**\n",
       "     * Register the mime type and append_mime function with output_area\n",
       "     */\n",
       "    OutputArea.prototype.register_mime_type(EXEC_MIME_TYPE, append_mime, {\n",
       "      /* Is output safe? */\n",
       "      safe: true,\n",
       "      /* Index of renderer in `output_area.display_order` */\n",
       "      index: 0\n",
       "    });\n",
       "  }\n",
       "\n",
       "  // register the mime type if in Jupyter Notebook environment and previously unregistered\n",
       "  if (root.Jupyter !== undefined) {\n",
       "    var events = require('base/js/events');\n",
       "    var OutputArea = require('notebook/js/outputarea').OutputArea;\n",
       "\n",
       "    if (OutputArea.prototype.mime_types().indexOf(EXEC_MIME_TYPE) == -1) {\n",
       "      register_renderer(events, OutputArea);\n",
       "    }\n",
       "  }\n",
       "\n",
       "  \n",
       "  if (typeof (root._bokeh_timeout) === \"undefined\" || force === true) {\n",
       "    root._bokeh_timeout = Date.now() + 5000;\n",
       "    root._bokeh_failed_load = false;\n",
       "  }\n",
       "\n",
       "  var NB_LOAD_WARNING = {'data': {'text/html':\n",
       "     \"<div style='background-color: #fdd'>\\n\"+\n",
       "     \"<p>\\n\"+\n",
       "     \"BokehJS does not appear to have successfully loaded. If loading BokehJS from CDN, this \\n\"+\n",
       "     \"may be due to a slow or bad network connection. Possible fixes:\\n\"+\n",
       "     \"</p>\\n\"+\n",
       "     \"<ul>\\n\"+\n",
       "     \"<li>re-rerun `output_notebook()` to attempt to load from CDN again, or</li>\\n\"+\n",
       "     \"<li>use INLINE resources instead, as so:</li>\\n\"+\n",
       "     \"</ul>\\n\"+\n",
       "     \"<code>\\n\"+\n",
       "     \"from bokeh.resources import INLINE\\n\"+\n",
       "     \"output_notebook(resources=INLINE)\\n\"+\n",
       "     \"</code>\\n\"+\n",
       "     \"</div>\"}};\n",
       "\n",
       "  function display_loaded() {\n",
       "    var el = document.getElementById(\"1001\");\n",
       "    if (el != null) {\n",
       "      el.textContent = \"BokehJS is loading...\";\n",
       "    }\n",
       "    if (root.Bokeh !== undefined) {\n",
       "      if (el != null) {\n",
       "        el.textContent = \"BokehJS \" + root.Bokeh.version + \" successfully loaded.\";\n",
       "      }\n",
       "    } else if (Date.now() < root._bokeh_timeout) {\n",
       "      setTimeout(display_loaded, 100)\n",
       "    }\n",
       "  }\n",
       "\n",
       "\n",
       "  function run_callbacks() {\n",
       "    try {\n",
       "      root._bokeh_onload_callbacks.forEach(function(callback) { callback() });\n",
       "    }\n",
       "    finally {\n",
       "      delete root._bokeh_onload_callbacks\n",
       "    }\n",
       "    console.info(\"Bokeh: all callbacks have finished\");\n",
       "  }\n",
       "\n",
       "  function load_libs(js_urls, callback) {\n",
       "    root._bokeh_onload_callbacks.push(callback);\n",
       "    if (root._bokeh_is_loading > 0) {\n",
       "      console.log(\"Bokeh: BokehJS is being loaded, scheduling callback at\", now());\n",
       "      return null;\n",
       "    }\n",
       "    if (js_urls == null || js_urls.length === 0) {\n",
       "      run_callbacks();\n",
       "      return null;\n",
       "    }\n",
       "    console.log(\"Bokeh: BokehJS not loaded, scheduling load and callback at\", now());\n",
       "    root._bokeh_is_loading = js_urls.length;\n",
       "    for (var i = 0; i < js_urls.length; i++) {\n",
       "      var url = js_urls[i];\n",
       "      var s = document.createElement('script');\n",
       "      s.src = url;\n",
       "      s.async = false;\n",
       "      s.onreadystatechange = s.onload = function() {\n",
       "        root._bokeh_is_loading--;\n",
       "        if (root._bokeh_is_loading === 0) {\n",
       "          console.log(\"Bokeh: all BokehJS libraries loaded\");\n",
       "          run_callbacks()\n",
       "        }\n",
       "      };\n",
       "      s.onerror = function() {\n",
       "        console.warn(\"failed to load library \" + url);\n",
       "      };\n",
       "      console.log(\"Bokeh: injecting script tag for BokehJS library: \", url);\n",
       "      document.getElementsByTagName(\"head\")[0].appendChild(s);\n",
       "    }\n",
       "  };var element = document.getElementById(\"1001\");\n",
       "  if (element == null) {\n",
       "    console.log(\"Bokeh: ERROR: autoload.js configured with elementid '1001' but no matching script tag was found. \")\n",
       "    return false;\n",
       "  }\n",
       "\n",
       "  var js_urls = [\"https://cdn.pydata.org/bokeh/release/bokeh-1.0.4.min.js\", \"https://cdn.pydata.org/bokeh/release/bokeh-widgets-1.0.4.min.js\", \"https://cdn.pydata.org/bokeh/release/bokeh-tables-1.0.4.min.js\", \"https://cdn.pydata.org/bokeh/release/bokeh-gl-1.0.4.min.js\"];\n",
       "\n",
       "  var inline_js = [\n",
       "    function(Bokeh) {\n",
       "      Bokeh.set_log_level(\"info\");\n",
       "    },\n",
       "    \n",
       "    function(Bokeh) {\n",
       "      \n",
       "    },\n",
       "    function(Bokeh) {\n",
       "      console.log(\"Bokeh: injecting CSS: https://cdn.pydata.org/bokeh/release/bokeh-1.0.4.min.css\");\n",
       "      Bokeh.embed.inject_css(\"https://cdn.pydata.org/bokeh/release/bokeh-1.0.4.min.css\");\n",
       "      console.log(\"Bokeh: injecting CSS: https://cdn.pydata.org/bokeh/release/bokeh-widgets-1.0.4.min.css\");\n",
       "      Bokeh.embed.inject_css(\"https://cdn.pydata.org/bokeh/release/bokeh-widgets-1.0.4.min.css\");\n",
       "      console.log(\"Bokeh: injecting CSS: https://cdn.pydata.org/bokeh/release/bokeh-tables-1.0.4.min.css\");\n",
       "      Bokeh.embed.inject_css(\"https://cdn.pydata.org/bokeh/release/bokeh-tables-1.0.4.min.css\");\n",
       "    }\n",
       "  ];\n",
       "\n",
       "  function run_inline_js() {\n",
       "    \n",
       "    if ((root.Bokeh !== undefined) || (force === true)) {\n",
       "      for (var i = 0; i < inline_js.length; i++) {\n",
       "        inline_js[i].call(root, root.Bokeh);\n",
       "      }if (force === true) {\n",
       "        display_loaded();\n",
       "      }} else if (Date.now() < root._bokeh_timeout) {\n",
       "      setTimeout(run_inline_js, 100);\n",
       "    } else if (!root._bokeh_failed_load) {\n",
       "      console.log(\"Bokeh: BokehJS failed to load within specified timeout.\");\n",
       "      root._bokeh_failed_load = true;\n",
       "    } else if (force !== true) {\n",
       "      var cell = $(document.getElementById(\"1001\")).parents('.cell').data().cell;\n",
       "      cell.output_area.append_execute_result(NB_LOAD_WARNING)\n",
       "    }\n",
       "\n",
       "  }\n",
       "\n",
       "  if (root._bokeh_is_loading === 0) {\n",
       "    console.log(\"Bokeh: BokehJS loaded, going straight to plotting\");\n",
       "    run_inline_js();\n",
       "  } else {\n",
       "    load_libs(js_urls, function() {\n",
       "      console.log(\"Bokeh: BokehJS plotting callback run at\", now());\n",
       "      run_inline_js();\n",
       "    });\n",
       "  }\n",
       "}(window));"
      ],
      "application/vnd.bokehjs_load.v0+json": "\n(function(root) {\n  function now() {\n    return new Date();\n  }\n\n  var force = true;\n\n  if (typeof (root._bokeh_onload_callbacks) === \"undefined\" || force === true) {\n    root._bokeh_onload_callbacks = [];\n    root._bokeh_is_loading = undefined;\n  }\n\n  \n\n  \n  if (typeof (root._bokeh_timeout) === \"undefined\" || force === true) {\n    root._bokeh_timeout = Date.now() + 5000;\n    root._bokeh_failed_load = false;\n  }\n\n  var NB_LOAD_WARNING = {'data': {'text/html':\n     \"<div style='background-color: #fdd'>\\n\"+\n     \"<p>\\n\"+\n     \"BokehJS does not appear to have successfully loaded. If loading BokehJS from CDN, this \\n\"+\n     \"may be due to a slow or bad network connection. Possible fixes:\\n\"+\n     \"</p>\\n\"+\n     \"<ul>\\n\"+\n     \"<li>re-rerun `output_notebook()` to attempt to load from CDN again, or</li>\\n\"+\n     \"<li>use INLINE resources instead, as so:</li>\\n\"+\n     \"</ul>\\n\"+\n     \"<code>\\n\"+\n     \"from bokeh.resources import INLINE\\n\"+\n     \"output_notebook(resources=INLINE)\\n\"+\n     \"</code>\\n\"+\n     \"</div>\"}};\n\n  function display_loaded() {\n    var el = document.getElementById(\"1001\");\n    if (el != null) {\n      el.textContent = \"BokehJS is loading...\";\n    }\n    if (root.Bokeh !== undefined) {\n      if (el != null) {\n        el.textContent = \"BokehJS \" + root.Bokeh.version + \" successfully loaded.\";\n      }\n    } else if (Date.now() < root._bokeh_timeout) {\n      setTimeout(display_loaded, 100)\n    }\n  }\n\n\n  function run_callbacks() {\n    try {\n      root._bokeh_onload_callbacks.forEach(function(callback) { callback() });\n    }\n    finally {\n      delete root._bokeh_onload_callbacks\n    }\n    console.info(\"Bokeh: all callbacks have finished\");\n  }\n\n  function load_libs(js_urls, callback) {\n    root._bokeh_onload_callbacks.push(callback);\n    if (root._bokeh_is_loading > 0) {\n      console.log(\"Bokeh: BokehJS is being loaded, scheduling callback at\", now());\n      return null;\n    }\n    if (js_urls == null || js_urls.length === 0) {\n      run_callbacks();\n      return null;\n    }\n    console.log(\"Bokeh: BokehJS not loaded, scheduling load and callback at\", now());\n    root._bokeh_is_loading = js_urls.length;\n    for (var i = 0; i < js_urls.length; i++) {\n      var url = js_urls[i];\n      var s = document.createElement('script');\n      s.src = url;\n      s.async = false;\n      s.onreadystatechange = s.onload = function() {\n        root._bokeh_is_loading--;\n        if (root._bokeh_is_loading === 0) {\n          console.log(\"Bokeh: all BokehJS libraries loaded\");\n          run_callbacks()\n        }\n      };\n      s.onerror = function() {\n        console.warn(\"failed to load library \" + url);\n      };\n      console.log(\"Bokeh: injecting script tag for BokehJS library: \", url);\n      document.getElementsByTagName(\"head\")[0].appendChild(s);\n    }\n  };var element = document.getElementById(\"1001\");\n  if (element == null) {\n    console.log(\"Bokeh: ERROR: autoload.js configured with elementid '1001' but no matching script tag was found. \")\n    return false;\n  }\n\n  var js_urls = [\"https://cdn.pydata.org/bokeh/release/bokeh-1.0.4.min.js\", \"https://cdn.pydata.org/bokeh/release/bokeh-widgets-1.0.4.min.js\", \"https://cdn.pydata.org/bokeh/release/bokeh-tables-1.0.4.min.js\", \"https://cdn.pydata.org/bokeh/release/bokeh-gl-1.0.4.min.js\"];\n\n  var inline_js = [\n    function(Bokeh) {\n      Bokeh.set_log_level(\"info\");\n    },\n    \n    function(Bokeh) {\n      \n    },\n    function(Bokeh) {\n      console.log(\"Bokeh: injecting CSS: https://cdn.pydata.org/bokeh/release/bokeh-1.0.4.min.css\");\n      Bokeh.embed.inject_css(\"https://cdn.pydata.org/bokeh/release/bokeh-1.0.4.min.css\");\n      console.log(\"Bokeh: injecting CSS: https://cdn.pydata.org/bokeh/release/bokeh-widgets-1.0.4.min.css\");\n      Bokeh.embed.inject_css(\"https://cdn.pydata.org/bokeh/release/bokeh-widgets-1.0.4.min.css\");\n      console.log(\"Bokeh: injecting CSS: https://cdn.pydata.org/bokeh/release/bokeh-tables-1.0.4.min.css\");\n      Bokeh.embed.inject_css(\"https://cdn.pydata.org/bokeh/release/bokeh-tables-1.0.4.min.css\");\n    }\n  ];\n\n  function run_inline_js() {\n    \n    if ((root.Bokeh !== undefined) || (force === true)) {\n      for (var i = 0; i < inline_js.length; i++) {\n        inline_js[i].call(root, root.Bokeh);\n      }if (force === true) {\n        display_loaded();\n      }} else if (Date.now() < root._bokeh_timeout) {\n      setTimeout(run_inline_js, 100);\n    } else if (!root._bokeh_failed_load) {\n      console.log(\"Bokeh: BokehJS failed to load within specified timeout.\");\n      root._bokeh_failed_load = true;\n    } else if (force !== true) {\n      var cell = $(document.getElementById(\"1001\")).parents('.cell').data().cell;\n      cell.output_area.append_execute_result(NB_LOAD_WARNING)\n    }\n\n  }\n\n  if (root._bokeh_is_loading === 0) {\n    console.log(\"Bokeh: BokehJS loaded, going straight to plotting\");\n    run_inline_js();\n  } else {\n    load_libs(js_urls, function() {\n      console.log(\"Bokeh: BokehJS plotting callback run at\", now());\n      run_inline_js();\n    });\n  }\n}(window));"
     },
     "metadata": {},
     "output_type": "display_data"
    }
   ],
   "source": [
    "import pandas as pd\n",
    "import numpy as np\n",
    "from math import pi\n",
    "from bokeh.io import show, output_notebook\n",
    "from bokeh.plotting import figure\n",
    "from bokeh.models import NumeralTickFormatter\n",
    "output_notebook()"
   ]
  },
  {
   "cell_type": "code",
   "execution_count": 39,
   "metadata": {},
   "outputs": [],
   "source": [
    "df = pd.read_csv('./data/multipleChoiceResponses.csv', low_memory=False)\n",
    "df_text = pd.read_csv('./data/freeFormResponses.csv', low_memory=False)\n",
    "df_schema = pd.read_csv('./data/SurveySchema.csv')"
   ]
  },
  {
   "cell_type": "markdown",
   "metadata": {},
   "source": [
    "### Job titles of people who took the survey"
   ]
  },
  {
   "cell_type": "code",
   "execution_count": 40,
   "metadata": {},
   "outputs": [
    {
     "data": {
      "text/html": [
       "\n",
       "\n",
       "\n",
       "\n",
       "\n",
       "\n",
       "  <div class=\"bk-root\" id=\"0fe3f256-14d3-441f-8130-88a8182c7a01\" data-root-id=\"3026\"></div>\n"
      ]
     },
     "metadata": {},
     "output_type": "display_data"
    },
    {
     "data": {
      "application/javascript": [
       "(function(root) {\n",
       "  function embed_document(root) {\n",
       "    \n",
       "  var docs_json = {\"ba0f4f4e-5eb3-49c2-8061-01ff101995a9\":{\"roots\":{\"references\":[{\"attributes\":{\"below\":[{\"id\":\"3036\",\"type\":\"CategoricalAxis\"}],\"left\":[{\"id\":\"3040\",\"type\":\"LinearAxis\"}],\"plot_height\":350,\"plot_width\":900,\"renderers\":[{\"id\":\"3036\",\"type\":\"CategoricalAxis\"},{\"id\":\"3039\",\"type\":\"Grid\"},{\"id\":\"3040\",\"type\":\"LinearAxis\"},{\"id\":\"3044\",\"type\":\"Grid\"},{\"id\":\"3049\",\"type\":\"GlyphRenderer\"}],\"title\":{\"id\":\"3025\",\"type\":\"Title\"},\"toolbar\":{\"id\":\"3045\",\"type\":\"Toolbar\"},\"toolbar_location\":null,\"x_range\":{\"id\":\"3028\",\"type\":\"FactorRange\"},\"x_scale\":{\"id\":\"3032\",\"type\":\"CategoricalScale\"},\"y_range\":{\"id\":\"3030\",\"type\":\"DataRange1d\"},\"y_scale\":{\"id\":\"3034\",\"type\":\"LinearScale\"}},\"id\":\"3026\",\"subtype\":\"Figure\",\"type\":\"Plot\"},{\"attributes\":{},\"id\":\"3168\",\"type\":\"UnionRenderers\"},{\"attributes\":{\"plot\":null,\"text\":\"Job Title Counts\"},\"id\":\"3025\",\"type\":\"Title\"},{\"attributes\":{\"callback\":null,\"factors\":[\"Student\",\"Data Scientist\",\"Software Engineer\",\"Data Analyst\",\"Other\",\"Research Scientist\",\"Not employed\",\"Consultant\",\"Business Analyst\",\"Data Engineer\",\"Research Assistant\",\"Manager\",\"Product/Project Manager\",\"Chief Officer\",\"Statistician\",\"DBA/Database Engineer\",\"Developer Advocate\",\"Marketing Analyst\",\"Salesperson\",\"Principal Investigator\",\"Data Journalist\"]},\"id\":\"3028\",\"type\":\"FactorRange\"},{\"attributes\":{},\"id\":\"3037\",\"type\":\"CategoricalTicker\"},{\"attributes\":{\"fill_alpha\":{\"value\":0.1},\"fill_color\":{\"value\":\"#1f77b4\"},\"line_alpha\":{\"value\":0.1},\"line_color\":{\"value\":\"#1f77b4\"},\"top\":{\"field\":\"top\"},\"width\":{\"value\":0.9},\"x\":{\"field\":\"x\"}},\"id\":\"3048\",\"type\":\"VBar\"},{\"attributes\":{\"dimension\":1,\"plot\":{\"id\":\"3026\",\"subtype\":\"Figure\",\"type\":\"Plot\"},\"ticker\":{\"id\":\"3041\",\"type\":\"BasicTicker\"}},\"id\":\"3044\",\"type\":\"Grid\"},{\"attributes\":{\"active_drag\":\"auto\",\"active_inspect\":\"auto\",\"active_multi\":null,\"active_scroll\":\"auto\",\"active_tap\":\"auto\"},\"id\":\"3045\",\"type\":\"Toolbar\"},{\"attributes\":{\"grid_line_color\":{\"value\":null},\"plot\":{\"id\":\"3026\",\"subtype\":\"Figure\",\"type\":\"Plot\"},\"ticker\":{\"id\":\"3037\",\"type\":\"CategoricalTicker\"}},\"id\":\"3039\",\"type\":\"Grid\"},{\"attributes\":{},\"id\":\"3032\",\"type\":\"CategoricalScale\"},{\"attributes\":{\"formatter\":{\"id\":\"3166\",\"type\":\"CategoricalTickFormatter\"},\"major_label_orientation\":0.5235987755982988,\"plot\":{\"id\":\"3026\",\"subtype\":\"Figure\",\"type\":\"Plot\"},\"ticker\":{\"id\":\"3037\",\"type\":\"CategoricalTicker\"}},\"id\":\"3036\",\"type\":\"CategoricalAxis\"},{\"attributes\":{\"data_source\":{\"id\":\"3046\",\"type\":\"ColumnDataSource\"},\"glyph\":{\"id\":\"3047\",\"type\":\"VBar\"},\"hover_glyph\":null,\"muted_glyph\":null,\"nonselection_glyph\":{\"id\":\"3048\",\"type\":\"VBar\"},\"selection_glyph\":null,\"view\":{\"id\":\"3050\",\"type\":\"CDSView\"}},\"id\":\"3049\",\"type\":\"GlyphRenderer\"},{\"attributes\":{\"formatter\":{\"id\":\"3164\",\"type\":\"BasicTickFormatter\"},\"plot\":{\"id\":\"3026\",\"subtype\":\"Figure\",\"type\":\"Plot\"},\"ticker\":{\"id\":\"3041\",\"type\":\"BasicTicker\"}},\"id\":\"3040\",\"type\":\"LinearAxis\"},{\"attributes\":{},\"id\":\"3034\",\"type\":\"LinearScale\"},{\"attributes\":{\"fill_color\":{\"value\":\"#1f77b4\"},\"line_color\":{\"value\":\"#1f77b4\"},\"top\":{\"field\":\"top\"},\"width\":{\"value\":0.9},\"x\":{\"field\":\"x\"}},\"id\":\"3047\",\"type\":\"VBar\"},{\"attributes\":{},\"id\":\"3166\",\"type\":\"CategoricalTickFormatter\"},{\"attributes\":{\"source\":{\"id\":\"3046\",\"type\":\"ColumnDataSource\"}},\"id\":\"3050\",\"type\":\"CDSView\"},{\"attributes\":{\"callback\":null,\"start\":0},\"id\":\"3030\",\"type\":\"DataRange1d\"},{\"attributes\":{},\"id\":\"3167\",\"type\":\"Selection\"},{\"attributes\":{\"callback\":null,\"data\":{\"top\":[5253,4137,3130,1922,1322,1189,842,785,772,737,600,590,428,360,237,145,117,115,102,97,20],\"x\":[\"Student\",\"Data Scientist\",\"Software Engineer\",\"Data Analyst\",\"Other\",\"Research Scientist\",\"Not employed\",\"Consultant\",\"Business Analyst\",\"Data Engineer\",\"Research Assistant\",\"Manager\",\"Product/Project Manager\",\"Chief Officer\",\"Statistician\",\"DBA/Database Engineer\",\"Developer Advocate\",\"Marketing Analyst\",\"Salesperson\",\"Principal Investigator\",\"Data Journalist\"]},\"selected\":{\"id\":\"3167\",\"type\":\"Selection\"},\"selection_policy\":{\"id\":\"3168\",\"type\":\"UnionRenderers\"}},\"id\":\"3046\",\"type\":\"ColumnDataSource\"},{\"attributes\":{},\"id\":\"3041\",\"type\":\"BasicTicker\"},{\"attributes\":{},\"id\":\"3164\",\"type\":\"BasicTickFormatter\"}],\"root_ids\":[\"3026\"]},\"title\":\"Bokeh Application\",\"version\":\"1.0.4\"}};\n",
       "  var render_items = [{\"docid\":\"ba0f4f4e-5eb3-49c2-8061-01ff101995a9\",\"roots\":{\"3026\":\"0fe3f256-14d3-441f-8130-88a8182c7a01\"}}];\n",
       "  root.Bokeh.embed.embed_items_notebook(docs_json, render_items);\n",
       "\n",
       "  }\n",
       "  if (root.Bokeh !== undefined) {\n",
       "    embed_document(root);\n",
       "  } else {\n",
       "    var attempts = 0;\n",
       "    var timer = setInterval(function(root) {\n",
       "      if (root.Bokeh !== undefined) {\n",
       "        embed_document(root);\n",
       "        clearInterval(timer);\n",
       "      }\n",
       "      attempts++;\n",
       "      if (attempts > 100) {\n",
       "        console.log(\"Bokeh: ERROR: Unable to run BokehJS code because BokehJS library is missing\");\n",
       "        clearInterval(timer);\n",
       "      }\n",
       "    }, 10, root)\n",
       "  }\n",
       "})(window);"
      ],
      "application/vnd.bokehjs_exec.v0+json": ""
     },
     "metadata": {
      "application/vnd.bokehjs_exec.v0+json": {
       "id": "3026"
      }
     },
     "output_type": "display_data"
    }
   ],
   "source": [
    "job_titles = df['Q6'].value_counts().index.tolist()[:-1]\n",
    "counts = df['Q6'].value_counts().values[:-1]\n",
    "\n",
    "p = figure(x_range=job_titles, plot_height=350, plot_width=900, title=\"Job Title Counts\",\n",
    "           toolbar_location=None, tools=\"\")\n",
    "\n",
    "p.vbar(x=job_titles, top=counts, width=0.9)\n",
    "\n",
    "p.xgrid.grid_line_color = None\n",
    "p.y_range.start = 0\n",
    "p.xaxis.major_label_orientation = pi/6\n",
    "\n",
    "show(p)"
   ]
  },
  {
   "cell_type": "markdown",
   "metadata": {},
   "source": [
    "### Industries of people who took the survey"
   ]
  },
  {
   "cell_type": "code",
   "execution_count": 4,
   "metadata": {},
   "outputs": [
    {
     "data": {
      "text/html": [
       "\n",
       "\n",
       "\n",
       "\n",
       "\n",
       "\n",
       "  <div class=\"bk-root\" id=\"8a4f675a-8d8c-42e0-8cd0-9551a544575e\" data-root-id=\"1078\"></div>\n"
      ]
     },
     "metadata": {},
     "output_type": "display_data"
    },
    {
     "data": {
      "application/javascript": [
       "(function(root) {\n",
       "  function embed_document(root) {\n",
       "    \n",
       "  var docs_json = {\"546d487e-b71b-4777-9186-3ce3099ea0fe\":{\"roots\":{\"references\":[{\"attributes\":{\"below\":[{\"id\":\"1088\",\"type\":\"CategoricalAxis\"}],\"left\":[{\"id\":\"1092\",\"type\":\"LinearAxis\"}],\"min_border_left\":100,\"plot_height\":350,\"plot_width\":900,\"renderers\":[{\"id\":\"1088\",\"type\":\"CategoricalAxis\"},{\"id\":\"1091\",\"type\":\"Grid\"},{\"id\":\"1092\",\"type\":\"LinearAxis\"},{\"id\":\"1096\",\"type\":\"Grid\"},{\"id\":\"1101\",\"type\":\"GlyphRenderer\"}],\"title\":{\"id\":\"1077\",\"type\":\"Title\"},\"toolbar\":{\"id\":\"1097\",\"type\":\"Toolbar\"},\"toolbar_location\":null,\"x_range\":{\"id\":\"1080\",\"type\":\"FactorRange\"},\"x_scale\":{\"id\":\"1084\",\"type\":\"CategoricalScale\"},\"y_range\":{\"id\":\"1082\",\"type\":\"DataRange1d\"},\"y_scale\":{\"id\":\"1086\",\"type\":\"LinearScale\"}},\"id\":\"1078\",\"subtype\":\"Figure\",\"type\":\"Plot\"},{\"attributes\":{\"data_source\":{\"id\":\"1098\",\"type\":\"ColumnDataSource\"},\"glyph\":{\"id\":\"1099\",\"type\":\"VBar\"},\"hover_glyph\":null,\"muted_glyph\":null,\"nonselection_glyph\":{\"id\":\"1100\",\"type\":\"VBar\"},\"selection_glyph\":null,\"view\":{\"id\":\"1102\",\"type\":\"CDSView\"}},\"id\":\"1101\",\"type\":\"GlyphRenderer\"},{\"attributes\":{},\"id\":\"1114\",\"type\":\"CategoricalTickFormatter\"},{\"attributes\":{\"callback\":null,\"start\":0},\"id\":\"1082\",\"type\":\"DataRange1d\"},{\"attributes\":{\"fill_alpha\":{\"value\":0.1},\"fill_color\":{\"value\":\"#1f77b4\"},\"line_alpha\":{\"value\":0.1},\"line_color\":{\"value\":\"#1f77b4\"},\"top\":{\"field\":\"top\"},\"width\":{\"value\":0.9},\"x\":{\"field\":\"x\"}},\"id\":\"1100\",\"type\":\"VBar\"},{\"attributes\":{},\"id\":\"1084\",\"type\":\"CategoricalScale\"},{\"attributes\":{},\"id\":\"1116\",\"type\":\"UnionRenderers\"},{\"attributes\":{\"fill_color\":{\"value\":\"#1f77b4\"},\"line_color\":{\"value\":\"#1f77b4\"},\"top\":{\"field\":\"top\"},\"width\":{\"value\":0.9},\"x\":{\"field\":\"x\"}},\"id\":\"1099\",\"type\":\"VBar\"},{\"attributes\":{\"formatter\":{\"id\":\"1114\",\"type\":\"CategoricalTickFormatter\"},\"major_label_orientation\":0.5235987755982988,\"plot\":{\"id\":\"1078\",\"subtype\":\"Figure\",\"type\":\"Plot\"},\"ticker\":{\"id\":\"1089\",\"type\":\"CategoricalTicker\"}},\"id\":\"1088\",\"type\":\"CategoricalAxis\"},{\"attributes\":{\"callback\":null,\"factors\":[\"Computers/Technology\",\"I am a student\",\"Academics/Education\",\"Accounting/Finance\",\"Other\",\"Online Service/Internet-based Services\",\"Medical/Pharmaceutical\",\"Government/Public Service\",\"Insurance/Risk Assessment\",\"Manufacturing/Fabrication\",\"Marketing/CRM\",\"Retail/Sales\",\"Energy/Mining\",\"Broadcasting/Communications\",\"Online Business/Internet-based Sales\",\"Shipping/Transportation\",\"Non-profit/Service\",\"Hospitality/Entertainment/Sports\",\"Military/Security/Defense\"]},\"id\":\"1080\",\"type\":\"FactorRange\"},{\"attributes\":{\"callback\":null,\"data\":{\"top\":[5584,4658,2749,1433,940,871,751,636,564,563,483,454,447,374,357,278,189,177,177],\"x\":[\"Computers/Technology\",\"I am a student\",\"Academics/Education\",\"Accounting/Finance\",\"Other\",\"Online Service/Internet-based Services\",\"Medical/Pharmaceutical\",\"Government/Public Service\",\"Insurance/Risk Assessment\",\"Manufacturing/Fabrication\",\"Marketing/CRM\",\"Retail/Sales\",\"Energy/Mining\",\"Broadcasting/Communications\",\"Online Business/Internet-based Sales\",\"Shipping/Transportation\",\"Non-profit/Service\",\"Hospitality/Entertainment/Sports\",\"Military/Security/Defense\"]},\"selected\":{\"id\":\"1115\",\"type\":\"Selection\"},\"selection_policy\":{\"id\":\"1116\",\"type\":\"UnionRenderers\"}},\"id\":\"1098\",\"type\":\"ColumnDataSource\"},{\"attributes\":{},\"id\":\"1086\",\"type\":\"LinearScale\"},{\"attributes\":{},\"id\":\"1112\",\"type\":\"BasicTickFormatter\"},{\"attributes\":{},\"id\":\"1089\",\"type\":\"CategoricalTicker\"},{\"attributes\":{\"source\":{\"id\":\"1098\",\"type\":\"ColumnDataSource\"}},\"id\":\"1102\",\"type\":\"CDSView\"},{\"attributes\":{\"plot\":null,\"text\":\"Industry Counts\"},\"id\":\"1077\",\"type\":\"Title\"},{\"attributes\":{\"grid_line_color\":{\"value\":null},\"plot\":{\"id\":\"1078\",\"subtype\":\"Figure\",\"type\":\"Plot\"},\"ticker\":{\"id\":\"1089\",\"type\":\"CategoricalTicker\"}},\"id\":\"1091\",\"type\":\"Grid\"},{\"attributes\":{\"formatter\":{\"id\":\"1112\",\"type\":\"BasicTickFormatter\"},\"plot\":{\"id\":\"1078\",\"subtype\":\"Figure\",\"type\":\"Plot\"},\"ticker\":{\"id\":\"1093\",\"type\":\"BasicTicker\"}},\"id\":\"1092\",\"type\":\"LinearAxis\"},{\"attributes\":{},\"id\":\"1115\",\"type\":\"Selection\"},{\"attributes\":{},\"id\":\"1093\",\"type\":\"BasicTicker\"},{\"attributes\":{\"active_drag\":\"auto\",\"active_inspect\":\"auto\",\"active_multi\":null,\"active_scroll\":\"auto\",\"active_tap\":\"auto\"},\"id\":\"1097\",\"type\":\"Toolbar\"},{\"attributes\":{\"dimension\":1,\"plot\":{\"id\":\"1078\",\"subtype\":\"Figure\",\"type\":\"Plot\"},\"ticker\":{\"id\":\"1093\",\"type\":\"BasicTicker\"}},\"id\":\"1096\",\"type\":\"Grid\"}],\"root_ids\":[\"1078\"]},\"title\":\"Bokeh Application\",\"version\":\"1.0.4\"}};\n",
       "  var render_items = [{\"docid\":\"546d487e-b71b-4777-9186-3ce3099ea0fe\",\"roots\":{\"1078\":\"8a4f675a-8d8c-42e0-8cd0-9551a544575e\"}}];\n",
       "  root.Bokeh.embed.embed_items_notebook(docs_json, render_items);\n",
       "\n",
       "  }\n",
       "  if (root.Bokeh !== undefined) {\n",
       "    embed_document(root);\n",
       "  } else {\n",
       "    var attempts = 0;\n",
       "    var timer = setInterval(function(root) {\n",
       "      if (root.Bokeh !== undefined) {\n",
       "        embed_document(root);\n",
       "        clearInterval(timer);\n",
       "      }\n",
       "      attempts++;\n",
       "      if (attempts > 100) {\n",
       "        console.log(\"Bokeh: ERROR: Unable to run BokehJS code because BokehJS library is missing\");\n",
       "        clearInterval(timer);\n",
       "      }\n",
       "    }, 10, root)\n",
       "  }\n",
       "})(window);"
      ],
      "application/vnd.bokehjs_exec.v0+json": ""
     },
     "metadata": {
      "application/vnd.bokehjs_exec.v0+json": {
       "id": "1078"
      }
     },
     "output_type": "display_data"
    }
   ],
   "source": [
    "industry_titles = df['Q7'].value_counts().index.tolist()[:-1]\n",
    "counts = df['Q7'].value_counts().values[:-1]\n",
    "\n",
    "p = figure(x_range=industry_titles, plot_height=350, plot_width=900, title=\"Industry Counts\",\n",
    "           toolbar_location=None, tools=\"\")\n",
    "\n",
    "p.vbar(x=industry_titles, top=counts, width=0.9)\n",
    "\n",
    "p.xgrid.grid_line_color = None\n",
    "p.y_range.start = 0\n",
    "p.xaxis.major_label_orientation = pi/6\n",
    "p.min_border_left = 100\n",
    "\n",
    "show(p)"
   ]
  },
  {
   "cell_type": "markdown",
   "metadata": {},
   "source": [
    "### Do data scientists say that their employers use ML?"
   ]
  },
  {
   "cell_type": "code",
   "execution_count": 18,
   "metadata": {},
   "outputs": [
    {
     "data": {
      "text/html": [
       "\n",
       "\n",
       "\n",
       "\n",
       "\n",
       "\n",
       "  <div class=\"bk-root\" id=\"5dc5a230-3263-4075-b854-c2606838a606\" data-root-id=\"1340\"></div>\n"
      ]
     },
     "metadata": {},
     "output_type": "display_data"
    },
    {
     "data": {
      "application/javascript": [
       "(function(root) {\n",
       "  function embed_document(root) {\n",
       "    \n",
       "  var docs_json = {\"d0ea693b-a64b-4b58-9c00-ec98e7fd5dcd\":{\"roots\":{\"references\":[{\"attributes\":{\"below\":[{\"id\":\"1350\",\"type\":\"CategoricalAxis\"}],\"left\":[{\"id\":\"1354\",\"type\":\"LinearAxis\"}],\"min_border_left\":150,\"plot_height\":550,\"plot_width\":900,\"renderers\":[{\"id\":\"1350\",\"type\":\"CategoricalAxis\"},{\"id\":\"1353\",\"type\":\"Grid\"},{\"id\":\"1354\",\"type\":\"LinearAxis\"},{\"id\":\"1358\",\"type\":\"Grid\"},{\"id\":\"1363\",\"type\":\"GlyphRenderer\"}],\"title\":{\"id\":\"1339\",\"type\":\"Title\"},\"toolbar\":{\"id\":\"1359\",\"type\":\"Toolbar\"},\"toolbar_location\":null,\"x_range\":{\"id\":\"1342\",\"type\":\"FactorRange\"},\"x_scale\":{\"id\":\"1346\",\"type\":\"CategoricalScale\"},\"y_range\":{\"id\":\"1344\",\"type\":\"DataRange1d\"},\"y_scale\":{\"id\":\"1348\",\"type\":\"LinearScale\"}},\"id\":\"1340\",\"subtype\":\"Figure\",\"type\":\"Plot\"},{\"attributes\":{},\"id\":\"1346\",\"type\":\"CategoricalScale\"},{\"attributes\":{},\"id\":\"1348\",\"type\":\"LinearScale\"},{\"attributes\":{\"formatter\":{\"id\":\"1396\",\"type\":\"CategoricalTickFormatter\"},\"major_label_orientation\":0.5235987755982988,\"plot\":{\"id\":\"1340\",\"subtype\":\"Figure\",\"type\":\"Plot\"},\"ticker\":{\"id\":\"1351\",\"type\":\"CategoricalTicker\"}},\"id\":\"1350\",\"type\":\"CategoricalAxis\"},{\"attributes\":{},\"id\":\"1351\",\"type\":\"CategoricalTicker\"},{\"attributes\":{\"grid_line_color\":{\"value\":null},\"plot\":{\"id\":\"1340\",\"subtype\":\"Figure\",\"type\":\"Plot\"},\"ticker\":{\"id\":\"1351\",\"type\":\"CategoricalTicker\"}},\"id\":\"1353\",\"type\":\"Grid\"},{\"attributes\":{\"formatter\":{\"id\":\"1394\",\"type\":\"BasicTickFormatter\"},\"plot\":{\"id\":\"1340\",\"subtype\":\"Figure\",\"type\":\"Plot\"},\"ticker\":{\"id\":\"1355\",\"type\":\"BasicTicker\"}},\"id\":\"1354\",\"type\":\"LinearAxis\"},{\"attributes\":{},\"id\":\"1355\",\"type\":\"BasicTicker\"},{\"attributes\":{\"dimension\":1,\"plot\":{\"id\":\"1340\",\"subtype\":\"Figure\",\"type\":\"Plot\"},\"ticker\":{\"id\":\"1355\",\"type\":\"BasicTicker\"}},\"id\":\"1358\",\"type\":\"Grid\"},{\"attributes\":{\"active_drag\":\"auto\",\"active_inspect\":\"auto\",\"active_multi\":null,\"active_scroll\":\"auto\",\"active_tap\":\"auto\"},\"id\":\"1359\",\"type\":\"Toolbar\"},{\"attributes\":{\"fill_color\":{\"value\":\"#1f77b4\"},\"line_color\":{\"value\":\"#1f77b4\"},\"top\":{\"field\":\"top\"},\"width\":{\"value\":0.9},\"x\":{\"field\":\"x\"}},\"id\":\"1361\",\"type\":\"VBar\"},{\"attributes\":{\"callback\":null,\"factors\":[\"We recently started using ML methods (i.e., models\",\"We have well established ML methods (i.e., models \",\"We are exploring ML methods (and may one day put a\",\"We use ML methods for generating insights (but do \",\"I do not know\",\"No (we do not use ML methods)\"]},\"id\":\"1342\",\"type\":\"FactorRange\"},{\"attributes\":{\"callback\":null,\"data\":{\"top\":[1293,1020,745,519,191,165],\"x\":[\"We recently started using ML methods (i.e., models\",\"We have well established ML methods (i.e., models \",\"We are exploring ML methods (and may one day put a\",\"We use ML methods for generating insights (but do \",\"I do not know\",\"No (we do not use ML methods)\"]},\"selected\":{\"id\":\"1397\",\"type\":\"Selection\"},\"selection_policy\":{\"id\":\"1398\",\"type\":\"UnionRenderers\"}},\"id\":\"1360\",\"type\":\"ColumnDataSource\"},{\"attributes\":{\"fill_alpha\":{\"value\":0.1},\"fill_color\":{\"value\":\"#1f77b4\"},\"line_alpha\":{\"value\":0.1},\"line_color\":{\"value\":\"#1f77b4\"},\"top\":{\"field\":\"top\"},\"width\":{\"value\":0.9},\"x\":{\"field\":\"x\"}},\"id\":\"1362\",\"type\":\"VBar\"},{\"attributes\":{\"callback\":null,\"start\":0},\"id\":\"1344\",\"type\":\"DataRange1d\"},{\"attributes\":{\"data_source\":{\"id\":\"1360\",\"type\":\"ColumnDataSource\"},\"glyph\":{\"id\":\"1361\",\"type\":\"VBar\"},\"hover_glyph\":null,\"muted_glyph\":null,\"nonselection_glyph\":{\"id\":\"1362\",\"type\":\"VBar\"},\"selection_glyph\":null,\"view\":{\"id\":\"1364\",\"type\":\"CDSView\"}},\"id\":\"1363\",\"type\":\"GlyphRenderer\"},{\"attributes\":{\"plot\":null,\"text\":\"Data scientist employer's use of ML\"},\"id\":\"1339\",\"type\":\"Title\"},{\"attributes\":{\"source\":{\"id\":\"1360\",\"type\":\"ColumnDataSource\"}},\"id\":\"1364\",\"type\":\"CDSView\"},{\"attributes\":{},\"id\":\"1394\",\"type\":\"BasicTickFormatter\"},{\"attributes\":{},\"id\":\"1396\",\"type\":\"CategoricalTickFormatter\"},{\"attributes\":{},\"id\":\"1397\",\"type\":\"Selection\"},{\"attributes\":{},\"id\":\"1398\",\"type\":\"UnionRenderers\"}],\"root_ids\":[\"1340\"]},\"title\":\"Bokeh Application\",\"version\":\"1.0.4\"}};\n",
       "  var render_items = [{\"docid\":\"d0ea693b-a64b-4b58-9c00-ec98e7fd5dcd\",\"roots\":{\"1340\":\"5dc5a230-3263-4075-b854-c2606838a606\"}}];\n",
       "  root.Bokeh.embed.embed_items_notebook(docs_json, render_items);\n",
       "\n",
       "  }\n",
       "  if (root.Bokeh !== undefined) {\n",
       "    embed_document(root);\n",
       "  } else {\n",
       "    var attempts = 0;\n",
       "    var timer = setInterval(function(root) {\n",
       "      if (root.Bokeh !== undefined) {\n",
       "        embed_document(root);\n",
       "        clearInterval(timer);\n",
       "      }\n",
       "      attempts++;\n",
       "      if (attempts > 100) {\n",
       "        console.log(\"Bokeh: ERROR: Unable to run BokehJS code because BokehJS library is missing\");\n",
       "        clearInterval(timer);\n",
       "      }\n",
       "    }, 10, root)\n",
       "  }\n",
       "})(window);"
      ],
      "application/vnd.bokehjs_exec.v0+json": ""
     },
     "metadata": {
      "application/vnd.bokehjs_exec.v0+json": {
       "id": "1340"
      }
     },
     "output_type": "display_data"
    }
   ],
   "source": [
    "df_data_scientist = df[df['Q6'] == 'Data Scientist']\n",
    "\n",
    "ml_use = [label[:50] for label in df_data_scientist['Q10'].value_counts().index.tolist()]\n",
    "counts = df_data_scientist['Q10'].value_counts().tolist()\n",
    "\n",
    "p = figure(x_range=ml_use, plot_height=550, plot_width=900, title=\"Data scientist employer's use of ML\",\n",
    "           toolbar_location=None, tools=\"\")\n",
    "\n",
    "p.vbar(x=ml_use, top=counts, width=0.9)\n",
    "\n",
    "p.xgrid.grid_line_color = None\n",
    "p.y_range.start = 0\n",
    "p.xaxis.major_label_orientation = pi/6\n",
    "p.min_border_left = 150\n",
    "\n",
    "show(p)"
   ]
  },
  {
   "cell_type": "code",
   "execution_count": 24,
   "metadata": {},
   "outputs": [
    {
     "data": {
      "text/html": [
       "\n",
       "\n",
       "\n",
       "\n",
       "\n",
       "\n",
       "  <div class=\"bk-root\" id=\"f993dc0e-7989-4c08-be0c-9d16a83cd381\" data-root-id=\"2057\"></div>\n"
      ]
     },
     "metadata": {},
     "output_type": "display_data"
    },
    {
     "data": {
      "application/javascript": [
       "(function(root) {\n",
       "  function embed_document(root) {\n",
       "    \n",
       "  var docs_json = {\"c811c5f8-960b-4b4a-a677-d03f4b58f73a\":{\"roots\":{\"references\":[{\"attributes\":{\"below\":[{\"id\":\"2067\",\"type\":\"CategoricalAxis\"}],\"left\":[{\"id\":\"2071\",\"type\":\"LinearAxis\"}],\"min_border_left\":150,\"plot_height\":550,\"plot_width\":900,\"renderers\":[{\"id\":\"2067\",\"type\":\"CategoricalAxis\"},{\"id\":\"2070\",\"type\":\"Grid\"},{\"id\":\"2071\",\"type\":\"LinearAxis\"},{\"id\":\"2075\",\"type\":\"Grid\"},{\"id\":\"2080\",\"type\":\"GlyphRenderer\"}],\"title\":{\"id\":\"2056\",\"type\":\"Title\"},\"toolbar\":{\"id\":\"2076\",\"type\":\"Toolbar\"},\"toolbar_location\":null,\"x_range\":{\"id\":\"2059\",\"type\":\"FactorRange\"},\"x_scale\":{\"id\":\"2063\",\"type\":\"CategoricalScale\"},\"y_range\":{\"id\":\"2061\",\"type\":\"DataRange1d\"},\"y_scale\":{\"id\":\"2065\",\"type\":\"LinearScale\"}},\"id\":\"2057\",\"subtype\":\"Figure\",\"type\":\"Plot\"},{\"attributes\":{\"dimension\":1,\"plot\":{\"id\":\"2057\",\"subtype\":\"Figure\",\"type\":\"Plot\"},\"ticker\":{\"id\":\"2072\",\"type\":\"BasicTicker\"}},\"id\":\"2075\",\"type\":\"Grid\"},{\"attributes\":{\"fill_color\":{\"value\":\"#1f77b4\"},\"line_color\":{\"value\":\"#1f77b4\"},\"top\":{\"field\":\"top\"},\"width\":{\"value\":0.9},\"x\":{\"field\":\"x\"}},\"id\":\"2078\",\"type\":\"VBar\"},{\"attributes\":{\"callback\":null,\"data\":{\"top\":[1115,1034,919,578,546,336],\"x\":[\"We recently started using ML methods (i.e., models\",\"We have well established ML methods (i.e., models \",\"We are exploring ML methods (and may one day put a\",\"No (we do not use ML methods)\",\"We use ML methods for generating insights (but do \",\"I do not know\"]},\"selected\":{\"id\":\"2156\",\"type\":\"Selection\"},\"selection_policy\":{\"id\":\"2157\",\"type\":\"UnionRenderers\"}},\"id\":\"2077\",\"type\":\"ColumnDataSource\"},{\"attributes\":{\"formatter\":{\"id\":\"2155\",\"type\":\"CategoricalTickFormatter\"},\"major_label_orientation\":0.5235987755982988,\"plot\":{\"id\":\"2057\",\"subtype\":\"Figure\",\"type\":\"Plot\"},\"ticker\":{\"id\":\"2068\",\"type\":\"CategoricalTicker\"}},\"id\":\"2067\",\"type\":\"CategoricalAxis\"},{\"attributes\":{\"fill_alpha\":{\"value\":0.1},\"fill_color\":{\"value\":\"#1f77b4\"},\"line_alpha\":{\"value\":0.1},\"line_color\":{\"value\":\"#1f77b4\"},\"top\":{\"field\":\"top\"},\"width\":{\"value\":0.9},\"x\":{\"field\":\"x\"}},\"id\":\"2079\",\"type\":\"VBar\"},{\"attributes\":{},\"id\":\"2072\",\"type\":\"BasicTicker\"},{\"attributes\":{\"data_source\":{\"id\":\"2077\",\"type\":\"ColumnDataSource\"},\"glyph\":{\"id\":\"2078\",\"type\":\"VBar\"},\"hover_glyph\":null,\"muted_glyph\":null,\"nonselection_glyph\":{\"id\":\"2079\",\"type\":\"VBar\"},\"selection_glyph\":null,\"view\":{\"id\":\"2081\",\"type\":\"CDSView\"}},\"id\":\"2080\",\"type\":\"GlyphRenderer\"},{\"attributes\":{\"source\":{\"id\":\"2077\",\"type\":\"ColumnDataSource\"}},\"id\":\"2081\",\"type\":\"CDSView\"},{\"attributes\":{},\"id\":\"2153\",\"type\":\"BasicTickFormatter\"},{\"attributes\":{},\"id\":\"2155\",\"type\":\"CategoricalTickFormatter\"},{\"attributes\":{},\"id\":\"2156\",\"type\":\"Selection\"},{\"attributes\":{},\"id\":\"2157\",\"type\":\"UnionRenderers\"},{\"attributes\":{},\"id\":\"2063\",\"type\":\"CategoricalScale\"},{\"attributes\":{\"callback\":null,\"factors\":[\"We recently started using ML methods (i.e., models\",\"We have well established ML methods (i.e., models \",\"We are exploring ML methods (and may one day put a\",\"No (we do not use ML methods)\",\"We use ML methods for generating insights (but do \",\"I do not know\"]},\"id\":\"2059\",\"type\":\"FactorRange\"},{\"attributes\":{\"grid_line_color\":{\"value\":null},\"plot\":{\"id\":\"2057\",\"subtype\":\"Figure\",\"type\":\"Plot\"},\"ticker\":{\"id\":\"2068\",\"type\":\"CategoricalTicker\"}},\"id\":\"2070\",\"type\":\"Grid\"},{\"attributes\":{\"formatter\":{\"id\":\"2153\",\"type\":\"BasicTickFormatter\"},\"plot\":{\"id\":\"2057\",\"subtype\":\"Figure\",\"type\":\"Plot\"},\"ticker\":{\"id\":\"2072\",\"type\":\"BasicTicker\"}},\"id\":\"2071\",\"type\":\"LinearAxis\"},{\"attributes\":{\"active_drag\":\"auto\",\"active_inspect\":\"auto\",\"active_multi\":null,\"active_scroll\":\"auto\",\"active_tap\":\"auto\"},\"id\":\"2076\",\"type\":\"Toolbar\"},{\"attributes\":{\"callback\":null,\"start\":0},\"id\":\"2061\",\"type\":\"DataRange1d\"},{\"attributes\":{},\"id\":\"2068\",\"type\":\"CategoricalTicker\"},{\"attributes\":{\"plot\":null,\"text\":\"Data scientist employer's use of ML\"},\"id\":\"2056\",\"type\":\"Title\"},{\"attributes\":{},\"id\":\"2065\",\"type\":\"LinearScale\"}],\"root_ids\":[\"2057\"]},\"title\":\"Bokeh Application\",\"version\":\"1.0.4\"}};\n",
       "  var render_items = [{\"docid\":\"c811c5f8-960b-4b4a-a677-d03f4b58f73a\",\"roots\":{\"2057\":\"f993dc0e-7989-4c08-be0c-9d16a83cd381\"}}];\n",
       "  root.Bokeh.embed.embed_items_notebook(docs_json, render_items);\n",
       "\n",
       "  }\n",
       "  if (root.Bokeh !== undefined) {\n",
       "    embed_document(root);\n",
       "  } else {\n",
       "    var attempts = 0;\n",
       "    var timer = setInterval(function(root) {\n",
       "      if (root.Bokeh !== undefined) {\n",
       "        embed_document(root);\n",
       "        clearInterval(timer);\n",
       "      }\n",
       "      attempts++;\n",
       "      if (attempts > 100) {\n",
       "        console.log(\"Bokeh: ERROR: Unable to run BokehJS code because BokehJS library is missing\");\n",
       "        clearInterval(timer);\n",
       "      }\n",
       "    }, 10, root)\n",
       "  }\n",
       "})(window);"
      ],
      "application/vnd.bokehjs_exec.v0+json": ""
     },
     "metadata": {
      "application/vnd.bokehjs_exec.v0+json": {
       "id": "2057"
      }
     },
     "output_type": "display_data"
    }
   ],
   "source": [
    "df_data_scientist = df[df['Q26'] == 'Definitely yes']\n",
    "\n",
    "ml_use = [label[:50] for label in df_data_scientist['Q10'].value_counts().index.tolist()]\n",
    "counts = df_data_scientist['Q10'].value_counts().tolist()\n",
    "\n",
    "p = figure(x_range=ml_use, plot_height=550, plot_width=900, title=\"Data scientist employer's use of ML\",\n",
    "           toolbar_location=None, tools=\"\")\n",
    "\n",
    "p.vbar(x=ml_use, top=counts, width=0.9)\n",
    "\n",
    "p.xgrid.grid_line_color = None\n",
    "p.y_range.start = 0\n",
    "p.xaxis.major_label_orientation = pi/6\n",
    "p.min_border_left = 150\n",
    "\n",
    "show(p)"
   ]
  },
  {
   "cell_type": "markdown",
   "metadata": {},
   "source": [
    "### Average compensation comparisons between job titles"
   ]
  },
  {
   "cell_type": "code",
   "execution_count": 6,
   "metadata": {},
   "outputs": [],
   "source": [
    "temp = df.copy(deep=True)\n",
    "temp['Q9'].replace('0-10,000', 5000, inplace=True)\n",
    "temp['Q9'].replace('10-20,000', 15000, inplace=True)\n",
    "temp['Q9'].replace('20-30,000', 25000, inplace=True)\n",
    "temp['Q9'].replace('30-40,000', 35000, inplace=True)\n",
    "temp['Q9'].replace('40-50,000', 45000, inplace=True)\n",
    "temp['Q9'].replace('50-60,000', 55000, inplace=True)\n",
    "temp['Q9'].replace('60-70,000', 65000, inplace=True)\n",
    "temp['Q9'].replace('70-80,000', 75000, inplace=True)\n",
    "temp['Q9'].replace('80-90,000', 85000, inplace=True)\n",
    "temp['Q9'].replace('90-100,000', 95000, inplace=True)\n",
    "temp['Q9'].replace('100-125,000', 112500, inplace=True)\n",
    "temp['Q9'].replace('125-150,000', 137500, inplace=True)\n",
    "temp['Q9'].replace('150-200,000', 175000, inplace=True)\n",
    "temp['Q9'].replace('200-250,000', 225000, inplace=True)\n",
    "temp['Q9'].replace('250-300,000', 275000, inplace=True)\n",
    "temp['Q9'].replace('300-400,000', 350000, inplace=True)\n",
    "temp['Q9'].replace('400-500,000', 450000, inplace=True)\n",
    "temp['Q9'].replace('500,000+', 500000, inplace=True)\n",
    "temp['Q9'].replace('I do not wish to disclose my approximate yearly compensation', np.nan, inplace=True)\n",
    "temp['Q9'].replace('What is your current yearly compensation (approximate $USD)?', np.nan, inplace=True)\n",
    "\n",
    "averages_tuples = []\n",
    "for job in job_titles:\n",
    "    if job == 'Not employed' or job == 'Student' or job == 'Other':\n",
    "        continue\n",
    "    averages_tuples.append((job, temp[temp['Q6'] == job]['Q9'].mean()))\n",
    "\n",
    "averages_tuples.sort(key=lambda x: x[1])"
   ]
  },
  {
   "cell_type": "code",
   "execution_count": 7,
   "metadata": {},
   "outputs": [
    {
     "data": {
      "text/html": [
       "\n",
       "\n",
       "\n",
       "\n",
       "\n",
       "\n",
       "  <div class=\"bk-root\" id=\"8f69165a-ebab-4a6d-b0e4-850afd1d76b6\" data-root-id=\"1249\"></div>\n"
      ]
     },
     "metadata": {},
     "output_type": "display_data"
    },
    {
     "data": {
      "application/javascript": [
       "(function(root) {\n",
       "  function embed_document(root) {\n",
       "    \n",
       "  var docs_json = {\"16e98da7-d578-4e15-8b98-0545677a7e6c\":{\"roots\":{\"references\":[{\"attributes\":{\"below\":[{\"id\":\"1259\",\"type\":\"CategoricalAxis\"}],\"left\":[{\"id\":\"1263\",\"type\":\"LinearAxis\"}],\"plot_height\":550,\"plot_width\":900,\"renderers\":[{\"id\":\"1259\",\"type\":\"CategoricalAxis\"},{\"id\":\"1262\",\"type\":\"Grid\"},{\"id\":\"1263\",\"type\":\"LinearAxis\"},{\"id\":\"1267\",\"type\":\"Grid\"},{\"id\":\"1272\",\"type\":\"GlyphRenderer\"}],\"title\":{\"id\":\"1248\",\"type\":\"Title\"},\"toolbar\":{\"id\":\"1268\",\"type\":\"Toolbar\"},\"toolbar_location\":null,\"x_range\":{\"id\":\"1251\",\"type\":\"FactorRange\"},\"x_scale\":{\"id\":\"1255\",\"type\":\"CategoricalScale\"},\"y_range\":{\"id\":\"1253\",\"type\":\"DataRange1d\"},\"y_scale\":{\"id\":\"1257\",\"type\":\"LinearScale\"}},\"id\":\"1249\",\"subtype\":\"Figure\",\"type\":\"Plot\"},{\"attributes\":{\"active_drag\":\"auto\",\"active_inspect\":\"auto\",\"active_multi\":null,\"active_scroll\":\"auto\",\"active_tap\":\"auto\"},\"id\":\"1268\",\"type\":\"Toolbar\"},{\"attributes\":{\"source\":{\"id\":\"1269\",\"type\":\"ColumnDataSource\"}},\"id\":\"1273\",\"type\":\"CDSView\"},{\"attributes\":{},\"id\":\"1300\",\"type\":\"CategoricalTickFormatter\"},{\"attributes\":{\"callback\":null,\"start\":0},\"id\":\"1253\",\"type\":\"DataRange1d\"},{\"attributes\":{\"fill_color\":{\"value\":\"#1f77b4\"},\"line_color\":{\"value\":\"#1f77b4\"},\"top\":{\"field\":\"top\"},\"width\":{\"value\":0.9},\"x\":{\"field\":\"x\"}},\"id\":\"1270\",\"type\":\"VBar\"},{\"attributes\":{},\"id\":\"1301\",\"type\":\"Selection\"},{\"attributes\":{\"format\":\"$0,0.00\"},\"id\":\"1274\",\"type\":\"NumeralTickFormatter\"},{\"attributes\":{},\"id\":\"1257\",\"type\":\"LinearScale\"},{\"attributes\":{\"dimension\":1,\"plot\":{\"id\":\"1249\",\"subtype\":\"Figure\",\"type\":\"Plot\"},\"ticker\":{\"id\":\"1264\",\"type\":\"BasicTicker\"}},\"id\":\"1267\",\"type\":\"Grid\"},{\"attributes\":{},\"id\":\"1264\",\"type\":\"BasicTicker\"},{\"attributes\":{},\"id\":\"1302\",\"type\":\"UnionRenderers\"},{\"attributes\":{\"formatter\":{\"id\":\"1274\",\"type\":\"NumeralTickFormatter\"},\"plot\":{\"id\":\"1249\",\"subtype\":\"Figure\",\"type\":\"Plot\"},\"ticker\":{\"id\":\"1264\",\"type\":\"BasicTicker\"}},\"id\":\"1263\",\"type\":\"LinearAxis\"},{\"attributes\":{\"grid_line_color\":{\"value\":null},\"plot\":{\"id\":\"1249\",\"subtype\":\"Figure\",\"type\":\"Plot\"},\"ticker\":{\"id\":\"1260\",\"type\":\"CategoricalTicker\"}},\"id\":\"1262\",\"type\":\"Grid\"},{\"attributes\":{\"data_source\":{\"id\":\"1269\",\"type\":\"ColumnDataSource\"},\"glyph\":{\"id\":\"1270\",\"type\":\"VBar\"},\"hover_glyph\":null,\"muted_glyph\":null,\"nonselection_glyph\":{\"id\":\"1271\",\"type\":\"VBar\"},\"selection_glyph\":null,\"view\":{\"id\":\"1273\",\"type\":\"CDSView\"}},\"id\":\"1272\",\"type\":\"GlyphRenderer\"},{\"attributes\":{\"callback\":null,\"factors\":[\"Research Assistant\",\"Data Analyst\",\"Developer Advocate\",\"DBA/Database Engineer\",\"Business Analyst\",\"Marketing Analyst\",\"Software Engineer\",\"Statistician\",\"Research Scientist\",\"Data Engineer\",\"Salesperson\",\"Data Scientist\",\"Product/Project Manager\",\"Consultant\",\"Data Journalist\",\"Manager\",\"Principal Investigator\",\"Chief Officer\"]},\"id\":\"1251\",\"type\":\"FactorRange\"},{\"attributes\":{\"fill_alpha\":{\"value\":0.1},\"fill_color\":{\"value\":\"#1f77b4\"},\"line_alpha\":{\"value\":0.1},\"line_color\":{\"value\":\"#1f77b4\"},\"top\":{\"field\":\"top\"},\"width\":{\"value\":0.9},\"x\":{\"field\":\"x\"}},\"id\":\"1271\",\"type\":\"VBar\"},{\"attributes\":{\"callback\":null,\"data\":{\"top\":[24395.973154362415,42268.90756302521,46735.294117647056,47478.63247863248,47677.96610169492,49396.55172413793,50044.8717948718,54236.11111111111,54786.48648648649,56254.43262411348,56781.25,65806.40196983688,70805.47112462006,71832.4607329843,73250.0,93335.17699115044,106506.02409638555,129880.4780876494],\"x\":[\"Research Assistant\",\"Data Analyst\",\"Developer Advocate\",\"DBA/Database Engineer\",\"Business Analyst\",\"Marketing Analyst\",\"Software Engineer\",\"Statistician\",\"Research Scientist\",\"Data Engineer\",\"Salesperson\",\"Data Scientist\",\"Product/Project Manager\",\"Consultant\",\"Data Journalist\",\"Manager\",\"Principal Investigator\",\"Chief Officer\"]},\"selected\":{\"id\":\"1301\",\"type\":\"Selection\"},\"selection_policy\":{\"id\":\"1302\",\"type\":\"UnionRenderers\"}},\"id\":\"1269\",\"type\":\"ColumnDataSource\"},{\"attributes\":{\"plot\":null,\"text\":\"Average compensation per job title\"},\"id\":\"1248\",\"type\":\"Title\"},{\"attributes\":{},\"id\":\"1255\",\"type\":\"CategoricalScale\"},{\"attributes\":{},\"id\":\"1260\",\"type\":\"CategoricalTicker\"},{\"attributes\":{\"formatter\":{\"id\":\"1300\",\"type\":\"CategoricalTickFormatter\"},\"major_label_orientation\":0.5235987755982988,\"plot\":{\"id\":\"1249\",\"subtype\":\"Figure\",\"type\":\"Plot\"},\"ticker\":{\"id\":\"1260\",\"type\":\"CategoricalTicker\"}},\"id\":\"1259\",\"type\":\"CategoricalAxis\"}],\"root_ids\":[\"1249\"]},\"title\":\"Bokeh Application\",\"version\":\"1.0.4\"}};\n",
       "  var render_items = [{\"docid\":\"16e98da7-d578-4e15-8b98-0545677a7e6c\",\"roots\":{\"1249\":\"8f69165a-ebab-4a6d-b0e4-850afd1d76b6\"}}];\n",
       "  root.Bokeh.embed.embed_items_notebook(docs_json, render_items);\n",
       "\n",
       "  }\n",
       "  if (root.Bokeh !== undefined) {\n",
       "    embed_document(root);\n",
       "  } else {\n",
       "    var attempts = 0;\n",
       "    var timer = setInterval(function(root) {\n",
       "      if (root.Bokeh !== undefined) {\n",
       "        embed_document(root);\n",
       "        clearInterval(timer);\n",
       "      }\n",
       "      attempts++;\n",
       "      if (attempts > 100) {\n",
       "        console.log(\"Bokeh: ERROR: Unable to run BokehJS code because BokehJS library is missing\");\n",
       "        clearInterval(timer);\n",
       "      }\n",
       "    }, 10, root)\n",
       "  }\n",
       "})(window);"
      ],
      "application/vnd.bokehjs_exec.v0+json": ""
     },
     "metadata": {
      "application/vnd.bokehjs_exec.v0+json": {
       "id": "1249"
      }
     },
     "output_type": "display_data"
    }
   ],
   "source": [
    "job_titles = [tup[0] for tup in averages_tuples]\n",
    "averages = [tup[1] for tup in averages_tuples]\n",
    "\n",
    "p = figure(x_range=job_titles, plot_height=550, plot_width=900, title=\"Average compensation per job title\",\n",
    "           toolbar_location=None, tools=\"\")\n",
    "\n",
    "p.vbar(x=job_titles, top=averages, width=0.9)\n",
    "\n",
    "p.xgrid.grid_line_color = None\n",
    "p.y_range.start = 0\n",
    "p.xaxis.major_label_orientation = pi/6\n",
    "p.yaxis.formatter=NumeralTickFormatter(format='$0,0.00')\n",
    "\n",
    "show(p)"
   ]
  },
  {
   "cell_type": "code",
   "execution_count": 12,
   "metadata": {},
   "outputs": [
    {
     "data": {
      "text/plain": [
       "Student                                                                                                    5253\n",
       "Data Scientist                                                                                             4137\n",
       "Software Engineer                                                                                          3130\n",
       "Data Analyst                                                                                               1922\n",
       "Other                                                                                                      1322\n",
       "Research Scientist                                                                                         1189\n",
       "Not employed                                                                                                842\n",
       "Consultant                                                                                                  785\n",
       "Business Analyst                                                                                            772\n",
       "Data Engineer                                                                                               737\n",
       "Research Assistant                                                                                          600\n",
       "Manager                                                                                                     590\n",
       "Product/Project Manager                                                                                     428\n",
       "Chief Officer                                                                                               360\n",
       "Statistician                                                                                                237\n",
       "DBA/Database Engineer                                                                                       145\n",
       "Developer Advocate                                                                                          117\n",
       "Marketing Analyst                                                                                           115\n",
       "Salesperson                                                                                                 102\n",
       "Principal Investigator                                                                                       97\n",
       "Data Journalist                                                                                              20\n",
       "Select the title most similar to your current role (or most recent title if retired): - Selected Choice       1\n",
       "Name: Q6, dtype: int64"
      ]
     },
     "execution_count": 12,
     "metadata": {},
     "output_type": "execute_result"
    }
   ],
   "source": [
    "temp['Q6'].value_counts()"
   ]
  },
  {
   "cell_type": "code",
   "execution_count": 31,
   "metadata": {},
   "outputs": [
    {
     "data": {
      "text/plain": [
       "United States of America                                946\n",
       "India                                                   595\n",
       "France                                                  181\n",
       "Russia                                                  178\n",
       "Germany                                                 165\n",
       "United Kingdom of Great Britain and Northern Ireland    163\n",
       "Other                                                   147\n",
       "Brazil                                                  125\n",
       "Canada                                                  107\n",
       "Spain                                                   106\n",
       "China                                                   106\n",
       "Netherlands                                              75\n",
       "Italy                                                    74\n",
       "Poland                                                   73\n",
       "Israel                                                   63\n",
       "Turkey                                                   61\n",
       "Japan                                                    58\n",
       "Australia                                                55\n",
       "Ukraine                                                  54\n",
       "South Africa                                             49\n",
       "I do not wish to disclose my location                    43\n",
       "Mexico                                                   40\n",
       "Belgium                                                  38\n",
       "Portugal                                                 33\n",
       "Sweden                                                   32\n",
       "Singapore                                                31\n",
       "Argentina                                                29\n",
       "Viet Nam                                                 28\n",
       "Colombia                                                 25\n",
       "Hungary                                                  25\n",
       "Pakistan                                                 25\n",
       "Belarus                                                  23\n",
       "Denmark                                                  22\n",
       "Switzerland                                              22\n",
       "Greece                                                   22\n",
       "Nigeria                                                  22\n",
       "Norway                                                   21\n",
       "Ireland                                                  18\n",
       "Egypt                                                    18\n",
       "South Korea                                              18\n",
       "Indonesia                                                18\n",
       "Malaysia                                                 18\n",
       "Tunisia                                                  17\n",
       "Chile                                                    16\n",
       "Iran, Islamic Republic of...                             16\n",
       "Peru                                                     15\n",
       "Finland                                                  15\n",
       "Czech Republic                                           14\n",
       "New Zealand                                              13\n",
       "Austria                                                  12\n",
       "Thailand                                                 12\n",
       "Romania                                                  10\n",
       "Philippines                                              10\n",
       "Bangladesh                                                9\n",
       "Hong Kong (S.A.R.)                                        8\n",
       "Kenya                                                     8\n",
       "Morocco                                                   7\n",
       "Republic of Korea                                         3\n",
       "Name: Q3, dtype: int64"
      ]
     },
     "execution_count": 31,
     "metadata": {},
     "output_type": "execute_result"
    }
   ],
   "source": [
    "df[(df['Q6'] != 'Student') & (df['Q6'] == 'Data Scientist')]['Q3'].value_counts()"
   ]
  },
  {
   "cell_type": "code",
   "execution_count": null,
   "metadata": {},
   "outputs": [],
   "source": []
  }
 ],
 "metadata": {
  "kernelspec": {
   "display_name": "py36",
   "language": "python",
   "name": "py36"
  },
  "language_info": {
   "codemirror_mode": {
    "name": "ipython",
    "version": 3
   },
   "file_extension": ".py",
   "mimetype": "text/x-python",
   "name": "python",
   "nbconvert_exporter": "python",
   "pygments_lexer": "ipython3",
   "version": "3.6.7"
  }
 },
 "nbformat": 4,
 "nbformat_minor": 2
}
